{
  "cells": [
    {
      "cell_type": "code",
      "source": [
        "import requests\n",
        "\n",
        "\n",
        "def ocr_space_file(filename, overlay=False, api_key='K87749420088957', language='eng'):\n",
        "    \"\"\" OCR.space API request with local file.\n",
        "        Python3.5 - not tested on 2.7\n",
        "    :param filename: Your file path & name.\n",
        "    :param overlay: Is OCR.space overlay required in your response.\n",
        "                    Defaults to False.\n",
        "    :param api_key: OCR.space API key.\n",
        "                    Defaults to 'helloworld'.\n",
        "    :param language: Language code to be used in OCR.\n",
        "                    List of available language codes can be found on https://ocr.space/OCRAPI\n",
        "                    Defaults to 'en'.\n",
        "    :return: Result in JSON format.\n",
        "    \"\"\"\n",
        "\n",
        "    payload = {'isOverlayRequired': overlay,\n",
        "               'apikey': api_key,\n",
        "               'language': language,\n",
        "               }\n",
        "    with open(filename, 'rb') as f:\n",
        "        r = requests.post('https://api.ocr.space/parse/image',\n",
        "                          files={filename: f},\n",
        "                          data=payload,\n",
        "                          )\n",
        "    return r.content.decode()\n",
        "\n",
        "test_file = ocr_space_file(filename='/content/Screenshot (72).png', language='eng')\n",
        "print(test_file)"
      ],
      "metadata": {
        "colab": {
          "base_uri": "https://localhost:8080/"
        },
        "id": "p3IzmKlglC8F",
        "outputId": "cceffc92-4285-40c1-8675-b93f027f568c"
      },
      "execution_count": null,
      "outputs": [
        {
          "output_type": "stream",
          "name": "stdout",
          "text": [
            "{\"ParsedResults\":[{\"TextOverlay\":{\"Lines\":[],\"HasOverlay\":false,\"Message\":\"Text overlay is not provided as it is not requested\"},\"TextOrientation\":\"0\",\"FileParseExitCode\":1,\"ParsedText\":\"S NO\\r\\n1\\r\\n12.75\\r\\n2\\r\\n18.60\\r\\n3\\r\\n16.02\\r\\n4\\r\\n61.16\\r\\n32.97\\r\\nMedicine Name\\r\\nLOSAR H TAB\\r\\nRECONERVE FORTE\\r\\nDROTIN-M TAB\\r\\nD-WELL AQ\\r\\nBatch No\\r\\n9FZ9G006\\r\\nPDEBE28\\r\\nTDMR1098\\r\\nBSX1003A\\r\\nEx\\r\\nDate\\r\\n-2023\\r\\nJan\\r\\n-2021\\r\\nAug\\r\\nJun\\r\\n-2022\\r\\nAor-2022\\r\\nMRP\\r\\nAmount\\r\\n30\\r\\n60\\r\\n10\\r\\n2\\r\\n354.77\\r\\n1035.09\\r\\n148.59\\r\\n\",\"ErrorMessage\":\"\",\"ErrorDetails\":\"\"}],\"OCRExitCode\":1,\"IsErroredOnProcessing\":false,\"ProcessingTimeInMilliseconds\":\"2218\",\"SearchablePDFURL\":\"Searchable PDF not generated as it was not requested.\"}\n"
          ]
        }
      ]
    },
    {
      "cell_type": "code",
      "source": [
        "import json\n",
        "y = json.loads(test_file)\n",
        "y['ParsedResults'][0]['ParsedText']"
      ],
      "metadata": {
        "colab": {
          "base_uri": "https://localhost:8080/",
          "height": 53
        },
        "id": "QRmxY8JSnP0O",
        "outputId": "0db69d44-f77d-4ad4-df45-4f47ae3778ae"
      },
      "execution_count": null,
      "outputs": [
        {
          "output_type": "execute_result",
          "data": {
            "text/plain": [
              "'S NO\\r\\n1\\r\\n12.75\\r\\n2\\r\\n18.60\\r\\n3\\r\\n16.02\\r\\n4\\r\\n61.16\\r\\n32.97\\r\\nMedicine Name\\r\\nLOSAR H TAB\\r\\nRECONERVE FORTE\\r\\nDROTIN-M TAB\\r\\nD-WELL AQ\\r\\nBatch No\\r\\n9FZ9G006\\r\\nPDEBE28\\r\\nTDMR1098\\r\\nBSX1003A\\r\\nEx\\r\\nDate\\r\\n-2023\\r\\nJan\\r\\n-2021\\r\\nAug\\r\\nJun\\r\\n-2022\\r\\nAor-2022\\r\\nMRP\\r\\nAmount\\r\\n30\\r\\n60\\r\\n10\\r\\n2\\r\\n354.77\\r\\n1035.09\\r\\n148.59\\r\\n'"
            ],
            "application/vnd.google.colaboratory.intrinsic+json": {
              "type": "string"
            }
          },
          "metadata": {},
          "execution_count": 11
        }
      ]
    },
    {
      "cell_type": "markdown",
      "source": [
        "1\n",
        "12.75\n",
        "2\n",
        "18.60\n",
        "3\n",
        "16.02\n",
        "4\n",
        "61.16\n",
        "32.97\n",
        "Medicine Name\n",
        "LOSAR H TAB\n",
        "RECONERVE FORTE\n",
        "DROTIN-M TAB\n",
        "D-WELL AQ\n",
        "Batch No\n",
        "9FZ9G006\n",
        "PDEBE28\n",
        "TDMR1098\n",
        "BSX1003A\n",
        "Ex\n",
        "Date\n",
        "-2023\n",
        "Jan\n",
        "-2021\n",
        "Aug\n",
        "Jun\n",
        "-2022\n",
        "Aor-2022\n",
        "MRP\n",
        "Amount\n",
        "30\n",
        "60\n",
        "10\n",
        "2\n",
        "354.77\n",
        "1035.09\n",
        "148.59"
      ],
      "metadata": {
        "id": "K-tOHFjnqHgu"
      }
    },
    {
      "cell_type": "code",
      "source": [
        "response = \"\\nLVPED\\nSo that all may see\\nName: MRS. SEEMALA VIJAYA LAXMI\\nMRNO. #: P461250\\nBoth Eyes\\nBoth Eyes\\nOral\\nOral\\nOral\\nBoth Eyes\\nTopical\\nMedicine Name.\\nL V PRASAD EYE INSTITUTE (KAR CAMPUS)\\nKallam Anji Reddy Campus, LV Prasad Marg, Road No.2, Banjara Hills,\\nHyderabad, Telangana - 500034, Phone: +91-040-6810 2020, http://www.lvpei.org.\\nTEARS NATURALE FORTE\\nEYE DROPS\\nDate: 07-04-2021\\nLACRIGEL EYE OINTMENT\\nFOLITRAX 15 MG WEEKLY\\nONCE A WEEK ON SUNDAY\\nTAB.FOLIC ACID 5 MG MON-\\nFRIDAYS\\nTAB.HCQ 200MG OD\\nNANCY PF\\nCOLD COMPRESSES\\nReview to Clinic\\nOphthalmologist\\nFrontdesk Name:\\n1 Drop\\nPRESCRIPTION\\nDosage Qty. Timings Duration\\nEvery\\none\\nhour\\nTime: 04:04 PM\\nOPHTHALMOLOGIST: DR. RAKSHEETH NATHAN R\\n1\\n1 drop 1\\n0\\n2\\n- Physical Consultation - 6 Month(s)\\nDr.Muralidhara Ramappa\\nRoshan Saheb\\nhttp://172.16.154.18/bext/emr/modules/casesheet/speciali\\nFour\\ntimes a\\nday\\nOnce a\\nday\\nOnce a\\nday\\nTwice a\\nday\\nTill Next\\nVisit\\nTill Next\\nVisit\\nTill Next\\nVisit\\nTill Next\\nVisit\\nTill Next\\nVisit\\nTill Next\\nVisit\\nTill Next\\nVisit\\nGender: Female\\nR\\nAge: 45 Yrs\\nSpecial Instructions\\nJoin LVPEI in Serving the millions going blind in India. Join the Sight Savers & Supporters Program\\nRaksheeth.\\nDr. Raksheeth Nathan R\\n(OPHTHALMOLOGIST)\\nTSMC/FMR/15073\\n07-04-2021 04:04 PM\""
      ],
      "metadata": {
        "id": "MlGq7NR06vfE"
      },
      "execution_count": null,
      "outputs": []
    },
    {
      "cell_type": "code",
      "source": [
        "l = response.split(\"\\n\")\n",
        "l\n",
        "len(l)"
      ],
      "metadata": {
        "colab": {
          "base_uri": "https://localhost:8080/"
        },
        "id": "QF9uBfs87MeY",
        "outputId": "48c95d55-0a71-416b-e49a-d202fb84f412"
      },
      "execution_count": null,
      "outputs": [
        {
          "output_type": "execute_result",
          "data": {
            "text/plain": [
              "79"
            ]
          },
          "metadata": {},
          "execution_count": 2
        }
      ]
    },
    {
      "cell_type": "code",
      "source": [
        "l = [*set(l)]\n",
        "len(l)"
      ],
      "metadata": {
        "colab": {
          "base_uri": "https://localhost:8080/"
        },
        "id": "57o04ZwGiExk",
        "outputId": "a0052f12-8664-4b4a-d59d-0e9de1c6f7f9"
      },
      "execution_count": null,
      "outputs": [
        {
          "output_type": "execute_result",
          "data": {
            "text/plain": [
              "59"
            ]
          },
          "metadata": {},
          "execution_count": 3
        }
      ]
    },
    {
      "cell_type": "code",
      "source": [
        "import nltk\n",
        "from nltk.corpus import stopwords\n",
        "nltk.download('stopwords')\n",
        "from nltk.tokenize import word_tokenize"
      ],
      "metadata": {
        "colab": {
          "base_uri": "https://localhost:8080/"
        },
        "id": "QwQ9VXfQohze",
        "outputId": "78f2eaa6-e4fd-4a0b-900b-e82704c29045"
      },
      "execution_count": null,
      "outputs": [
        {
          "output_type": "stream",
          "name": "stderr",
          "text": [
            "[nltk_data] Downloading package stopwords to /root/nltk_data...\n",
            "[nltk_data]   Unzipping corpora/stopwords.zip.\n"
          ]
        }
      ]
    },
    {
      "cell_type": "code",
      "source": [
        "tokens_without_sw = []\n",
        "for sen in l:\n",
        "  k = sen.split()\n",
        "  flag = False\n",
        "  for words in k:\n",
        "    if (words.lower() in stopwords.words()) or (len(sen)<=2):\n",
        "      flag = True\n",
        "      break\n",
        "  if flag==False:\n",
        "    tokens_without_sw.append(sen)\n",
        "  #tokens_without_sw.append(sen)\n",
        "\n",
        "((tokens_without_sw))"
      ],
      "metadata": {
        "colab": {
          "base_uri": "https://localhost:8080/"
        },
        "id": "wjQK9kGnomXR",
        "outputId": "e0a7cac5-c723-471f-8c94-75326ba17268"
      },
      "execution_count": null,
      "outputs": [
        {
          "output_type": "execute_result",
          "data": {
            "text/plain": [
              "['',\n",
              " 'MRNO. #: P461250',\n",
              " 'Dr. Raksheeth Nathan R',\n",
              " 'LACRIGEL EYE OINTMENT',\n",
              " 'COLD COMPRESSES',\n",
              " 'Ophthalmologist',\n",
              " 'Frontdesk Name:',\n",
              " 'Topical',\n",
              " 'TSMC/FMR/15073',\n",
              " '1 drop 1',\n",
              " 'day',\n",
              " 'Age: 45 Yrs',\n",
              " 'Name: MRS. SEEMALA VIJAYA LAXMI',\n",
              " 'Oral',\n",
              " 'Special Instructions',\n",
              " 'Date: 07-04-2021',\n",
              " 'TAB.FOLIC ACID 5 MG MON-',\n",
              " 'EYE DROPS',\n",
              " 'FOLITRAX 15 MG WEEKLY',\n",
              " 'Dr.Muralidhara Ramappa',\n",
              " 'Medicine Name.',\n",
              " 'Hyderabad, Telangana - 500034, Phone: +91-040-6810 2020, http://www.lvpei.org.',\n",
              " 'LVPED',\n",
              " 'NANCY PF',\n",
              " 'OPHTHALMOLOGIST: DR. RAKSHEETH NATHAN R',\n",
              " 'Raksheeth.',\n",
              " '- Physical Consultation - 6 Month(s)',\n",
              " 'PRESCRIPTION',\n",
              " 'FRIDAYS',\n",
              " 'Dosage Qty. Timings Duration',\n",
              " '(OPHTHALMOLOGIST)',\n",
              " 'TEARS NATURALE FORTE',\n",
              " '1 Drop',\n",
              " 'Kallam Anji Reddy Campus, LV Prasad Marg, Road No.2, Banjara Hills,',\n",
              " 'Time: 04:04 PM',\n",
              " 'hour',\n",
              " 'Roshan Saheb',\n",
              " 'http://172.16.154.18/bext/emr/modules/casesheet/speciali',\n",
              " 'Visit',\n",
              " '07-04-2021 04:04 PM',\n",
              " 'Gender: Female']"
            ]
          },
          "metadata": {},
          "execution_count": 20
        }
      ]
    },
    {
      "cell_type": "code",
      "source": [
        "!pip install drug-named-entity-recognition"
      ],
      "metadata": {
        "colab": {
          "base_uri": "https://localhost:8080/"
        },
        "id": "D_z_em62Vhwn",
        "outputId": "483613ee-d683-4a85-fc53-87370dbd717a"
      },
      "execution_count": null,
      "outputs": [
        {
          "output_type": "stream",
          "name": "stdout",
          "text": [
            "Looking in indexes: https://pypi.org/simple, https://us-python.pkg.dev/colab-wheels/public/simple/\n",
            "Collecting drug-named-entity-recognition\n",
            "  Downloading drug_named_entity_recognition-0.1-py3-none-any.whl (962 kB)\n",
            "\u001b[2K     \u001b[90m━━━━━━━━━━━━━━━━━━━━━━━━━━━━━━━━━━━━━━\u001b[0m \u001b[32m962.7/962.7 KB\u001b[0m \u001b[31m18.8 MB/s\u001b[0m eta \u001b[36m0:00:00\u001b[0m\n",
            "\u001b[?25hInstalling collected packages: drug-named-entity-recognition\n",
            "Successfully installed drug-named-entity-recognition-0.1\n"
          ]
        }
      ]
    },
    {
      "cell_type": "code",
      "source": [
        "from drug_named_entity_recognition import find_drugs\n",
        "find_drugs(tokens_without_sw,is_ignore_case=True)"
      ],
      "metadata": {
        "colab": {
          "base_uri": "https://localhost:8080/"
        },
        "id": "PPYPt3HFVnQ2",
        "outputId": "8b019c81-1c83-4e4a-cd5a-6f9dd0480311"
      },
      "execution_count": null,
      "outputs": [
        {
          "output_type": "execute_result",
          "data": {
            "text/plain": [
              "[]"
            ]
          },
          "metadata": {},
          "execution_count": 11
        }
      ]
    },
    {
      "cell_type": "markdown",
      "source": [
        "[('Apdrops KT 0.4 Eye Drops BAK Free', 86, 574),\n",
        " ('Alprax Forte 0.5 mg/50 mg Tablet', 86, 461),\n",
        " ('A Ret HC Cream', 86, 770),\n",
        " ('Amlip 5 Tablet', 86, 95),\n",
        " ('Klariday 500mg Injection', 66, 119073),\n",
        " ('Algesia CR 200mg/20mg Capsule', 86, 286),\n",
        " ('Aquim PF Eye Drop', 86, 418),\n",
        " ('Alkem Cold 5 mg/500 mg/5 mg Tablet', 86, 686)]"
      ],
      "metadata": {
        "id": "cRkX-DOh-7G9"
      }
    },
    {
      "cell_type": "code",
      "source": [
        "import csv\n",
        "import re\n",
        "import pathlib\n",
        "this_path = pathlib.Path(__file__).parent.resolve()\n",
        "\n",
        "drug_variant_to_canonical = {}\n",
        "drug_canonical_to_data = {}\n",
        "\n",
        "exclusions = {'ACACIA',\n",
        "              'ACETAMIDE',\n",
        "              'ACETATE',\n",
        "              'ACETOPHENONE',\n",
        "              'ACETYLCHOLINE',\n",
        "              'ACETYLENE',\n",
        "              'ACRIFLAVINE',\n",
        "              'ACT',\n",
        "              'ACTINIUM',\n",
        "              'ADENINE',\n",
        "              'ADENOSINE',\n",
        "              'ADRENALONE',\n",
        "              'AGMATINE',\n",
        "              'AIM',\n",
        "              'ALANINE',\n",
        "              'ALLANTOIN',\n",
        "              'ALLSPICE',\n",
        "              'ALMOND',\n",
        "              'ALUMINIUM',\n",
        "              'AMBER',\n",
        "              'AMEN',\n",
        "              'AMMONIA',\n",
        "              'AMYLAMINE',\n",
        "              'AMYLOPECTIN',\n",
        "              'AMYLOSE',\n",
        "              'ANETHOLE',\n",
        "              'ANILINE',\n",
        "              'ANTIMONY',\n",
        "              'ANTIPYRINE',\n",
        "              'APIGENIN',\n",
        "              'APPLE',\n",
        "              'APRICOT',\n",
        "              'ARGININE',\n",
        "              'ARTICHOKE',\n",
        "              'ASPARAGINE',\n",
        "              'ASPARAGUS',\n",
        "              'AVOCADO',\n",
        "              'BA',\n",
        "              'BANANA',\n",
        "              'BARIUM',\n",
        "              'BARLEY',\n",
        "              'BASIL',\n",
        "              'BEAN',\n",
        "              'BEEF',\n",
        "              'BEESWAX',\n",
        "              'BEET',\n",
        "              'BELLADONNA',\n",
        "              'BENTONITE',\n",
        "              'BENZIMIDAZOLE',\n",
        "              'BENZOIN',\n",
        "              'BENZOPHENONE',\n",
        "              'BENZYLAMINE',\n",
        "              'BERBERINE',\n",
        "              'BERKELIUM',\n",
        "              'BETAINE',\n",
        "              'BILBERRY',\n",
        "              'BLACKBERRY',\n",
        "              'BLUEBERRY',\n",
        "              'BLUEFISH',\n",
        "              'BORNEOL',\n",
        "              'BORON',\n",
        "              'BROCCOLI',\n",
        "              'BROMOFORM',\n",
        "              'BUCKWHEAT',\n",
        "              'BUTYLAMINE',\n",
        "              'CABALETTA',\n",
        "              'CABBAGE',\n",
        "              'CADAVERINE',\n",
        "              'CADMIUM',\n",
        "              'CAFFEINE',\n",
        "              'CALCIUM',\n",
        "              'CAMPHANE',\n",
        "              'CAMPHENE',\n",
        "              'CAMPHOR',\n",
        "              'CANTALOUPE',\n",
        "              'CAPSAICIN',\n",
        "              'CAPSICUM',\n",
        "              'CARAWAY',\n",
        "              'CARBAZOLE',\n",
        "              'CARBONATE',\n",
        "              'CARDAMOM',\n",
        "              'CARNOSINE',\n",
        "              'CAROB',\n",
        "              'CARROT',\n",
        "              'CARVACROL',\n",
        "              'CASEIN',\n",
        "              'CASHEW',\n",
        "              'CATFISH',\n",
        "              'CAULIFLOWER',\n",
        "              'CELERY',\n",
        "              'CELLOBIOSE',\n",
        "              'CESIUM',\n",
        "              'CHERRY',\n",
        "              'CHICKEN',\n",
        "              'CHLORINE',\n",
        "              'CHOLECYSTOKININ',\n",
        "              'CHOLESTEROL',\n",
        "              'CHOLINE',\n",
        "              'CHROMIUM',\n",
        "              'CHRYSIN',\n",
        "              'CHYMOTRYPSIN',\n",
        "              'CINCHOPHEN',\n",
        "              'CINNAMALDEHYDE',\n",
        "              'CINNAMON',\n",
        "              'CLOVE',\n",
        "              'COBALT',\n",
        "              'COCAINE',\n",
        "              'COCARBOXYLASE',\n",
        "              'COCOA',\n",
        "              'COCONUT',\n",
        "              'COPPER',\n",
        "              'CORN',\n",
        "              'CORTICOSTERONE',\n",
        "              'COTTON',\n",
        "              'COUMARIN',\n",
        "              'CRANBERRY',\n",
        "              'CREATINE',\n",
        "              'CREATININE',\n",
        "              'CRESOL',\n",
        "              'CREST',\n",
        "              'CROCIN',\n",
        "              'CROTONALDEHYDE',\n",
        "              'CUCUMBER',\n",
        "              'CUMIDINE',\n",
        "              'CUMIN',\n",
        "              'CURCUMIN',\n",
        "              'CYANAMIDE',\n",
        "              'CYCLOHEXANOL',\n",
        "              'CYCLOHEXANONE',\n",
        "              'CYCLOPROPANE',\n",
        "              'CYSTEINE',\n",
        "              'CYSTINE',\n",
        "              'CYTISINE',\n",
        "              'DATE',\n",
        "              'DEXTRAN',\n",
        "              'DIAMORPHINE',\n",
        "              'DICHROMATE',\n",
        "              'DIETHYLSTILBESTROL',\n",
        "              'DIGITOXIN',\n",
        "              'DIHYDROTACHYSTEROL',\n",
        "              'DILL',\n",
        "              'DINITROPHENOL',\n",
        "              'DIOSMIN',\n",
        "              'DIPHENYLGUANIDINE',\n",
        "              'DUCK',\n",
        "              'DUROQUINONE',\n",
        "              'ECGONINE',\n",
        "              'ECHINACEA',\n",
        "              'EGG',\n",
        "              'EGGPLANT',\n",
        "              'ELM',\n",
        "              'EMETINE',\n",
        "              'EMODIN',\n",
        "              'ENDURA',\n",
        "              'EOSIN',\n",
        "              'EPHEDRINE',\n",
        "              'ERGOMETRINE',\n",
        "              'ERGOSTEROL',\n",
        "              'ERGOTAMINE',\n",
        "              'ERYTHRITOL',\n",
        "              'ESCULIN',\n",
        "              'ESTRADIOL',\n",
        "              'ESTRIOL',\n",
        "              'ESTRONE',\n",
        "              'ESTROGEN',\n",
        "              'ETHANOL',\n",
        "              'ETHANOLAMINE',\n",
        "              'ETHER',\n",
        "              'EUCALYPTOL',\n",
        "              'EUGENOL',\n",
        "              'FARNESOL',\n",
        "              'FENCHONE',\n",
        "              'FENNEL',\n",
        "              'FIBRIN',\n",
        "              'FIG',\n",
        "              'FISETIN',\n",
        "              'FLAVONE',\n",
        "              'FLEET',\n",
        "              'FLOUNDER',\n",
        "              'FLUORESCEIN',\n",
        "              'FLUORESCIN',\n",
        "              'FLUORIDE',\n",
        "              'FLUORSPAR',\n",
        "              'FORMALDEHYDE',\n",
        "              'FRANKINCENSE',\n",
        "              'FRUCTOSE',\n",
        "              'FUCOSE',\n",
        "              'FUCOXANTHIN',\n",
        "              'GADOLINIUM',\n",
        "              'GALACTOSE',\n",
        "              'GARLIC',\n",
        "              'GELATIN',\n",
        "              'GENISTEIN',\n",
        "              'GERANIOL',\n",
        "              'GINGER',\n",
        "              'GINSENG',\n",
        "              'GLUCOSAMINE',\n",
        "              'GLUTATHIONE',\n",
        "              'GLYCERIN',\n",
        "              'GLYCINE',\n",
        "              'GLYCOLIDE',\n",
        "              'GOLD',\n",
        "              'GOLDENSEAL',\n",
        "              'GOOSE',\n",
        "              'GOSSYPOL',\n",
        "              'GRAPE',\n",
        "              'GRAPEFRUIT',\n",
        "              'GUAIACOL',\n",
        "              'GUANIDINE',\n",
        "              'GUANINE',\n",
        "              'GUANOSINE',\n",
        "              'GUVACINE',\n",
        "              'HADDOCK',\n",
        "              'HARMALINE',\n",
        "              'HARMINE',\n",
        "              'HAZELNUT',\n",
        "              'HELIUM',\n",
        "              'HEMATIN',\n",
        "              'HEMIN',\n",
        "              'HEMOGLOBIN',\n",
        "              'HEPARIN',\n",
        "              'HERRING',\n",
        "              'HESPERIDIN',\n",
        "              'HEXESTROL',\n",
        "              'HISTAMINE',\n",
        "              'HISTIDINE',\n",
        "              'HONEY',\n",
        "              'HYALURONIDASE',\n",
        "              'HYDROGEN',\n",
        "              'HYDROTALCITE',\n",
        "              'HYOSCYAMINE',\n",
        "              'HYPERICIN',\n",
        "              'HYPOCHLORITE',\n",
        "              'HYPOPHOSPHITE',\n",
        "              'HYPOXANTHINE',\n",
        "              'IMIDAZOLE',\n",
        "              'INDIRUBIN',\n",
        "              'INDIUM',\n",
        "              'INDOLE',\n",
        "              'INOSITOL',\n",
        "              'INULIN',\n",
        "              'IODIDE',\n",
        "              'IODINE',\n",
        "              'IODOBENZENE',\n",
        "              'IODOFORM',\n",
        "              'IPECAC',\n",
        "              'IRON',\n",
        "              'ISATIN',\n",
        "              'ISOEUGENOL',\n",
        "              'ISOFLAVONE',\n",
        "              'ISOLEUCINE',\n",
        "              'ISOPENTANE',\n",
        "              'ISOQUERCITRIN',\n",
        "              'ISOQUINOLINE',\n",
        "              'KALE',\n",
        "              'KAOLIN',\n",
        "              'KAVA',\n",
        "              'LACTOSE',\n",
        "              'LAMB',\n",
        "              'LANOLIN',\n",
        "              'LANTHANUM',\n",
        "              'LECITHIN',\n",
        "              'LEEK',\n",
        "              'LEMON',\n",
        "              'LENTIL',\n",
        "              'LETTUCE',\n",
        "              'LEUCINE',\n",
        "              'LICORICE',\n",
        "              'LINDANE',\n",
        "              'LITHIUM',\n",
        "              'LOBELINE',\n",
        "              'LOBSTER',\n",
        "              'LUPEOL',\n",
        "              'LUTEIN',\n",
        "              'LUTEOLIN',\n",
        "              'LYCOPENE',\n",
        "              'LYSINE',\n",
        "              'LYSOZYME',\n",
        "              'MACKEREL',\n",
        "              'MAGNESIUM',\n",
        "              'MALTODEXTRIN',\n",
        "              'MALTOSE',\n",
        "              'MANGANESE',\n",
        "              'MANGO',\n",
        "              'MANNITOL',\n",
        "              'MANNOSE',\n",
        "              'MENADIONE',\n",
        "              'MENTHOL',\n",
        "              'MENTHONE',\n",
        "              'METHANE',\n",
        "              'METHIONINE',\n",
        "              'METHYLAMINE',\n",
        "              'MOLYBDATE',\n",
        "              'MOLYBDENUM',\n",
        "              'MORPHOLINE',\n",
        "              'MUSKMELON',\n",
        "              'MYRICETIN',\n",
        "              'MYRRH',\n",
        "              'NARINGENIN',\n",
        "              'NECTARINE',\n",
        "              'NEODYMIUM',\n",
        "              'NEON',\n",
        "              'NIACIN',\n",
        "              'NICOTINAMIDE',\n",
        "              'NICOTINE',\n",
        "              'NIKETHAMIDE',\n",
        "              'NIOBIUM',\n",
        "              'NITRATE',\n",
        "              'NITRITE',\n",
        "              'NITROGEN',\n",
        "              'NITROGLYCERIN',\n",
        "              'NITROPRUSSIDE',\n",
        "              'NORLEUCINE',\n",
        "              'NUTMEG',\n",
        "              'OAT',\n",
        "              'OKRA',\n",
        "              'OLEANDRIN',\n",
        "              'ONION',\n",
        "              'OPIUM',\n",
        "              'ORANGE',\n",
        "              'ORNITHINE',\n",
        "              'ORRIS',\n",
        "              'OUABAIN',\n",
        "              'OXYGEN',\n",
        "              'OXYTOCIN',\n",
        "              'OYSTER',\n",
        "              'OZONE',\n",
        "              'PAPAIN',\n",
        "              'PAPAVERINE',\n",
        "              'PAPAYA',\n",
        "              'PAPRIKA',\n",
        "              'PARALDEHYDE',\n",
        "              'PARSLEY',\n",
        "              'PARSNIP',\n",
        "              'PATROL',\n",
        "              'PEA',\n",
        "              'PEACH',\n",
        "              'PEANUT',\n",
        "              'PEAR',\n",
        "              'PECAN',\n",
        "              'PECTIN',\n",
        "              'PENTAERYTHRITOL',\n",
        "              'PEPPERMINT',\n",
        "              'PEPSIN',\n",
        "              'PERCH',\n",
        "              'PERCHLORATE',\n",
        "              'PETROLATUM',\n",
        "              'PHENACETIN',\n",
        "              'PHENOL',\n",
        "              'PHENOLPHTHALEIN',\n",
        "              'PHENOTHIAZINE',\n",
        "              'PHENYLACETALDEHYDE',\n",
        "              'PHENYLALANINE',\n",
        "              'PHOSPHOCREATINE',\n",
        "              'PHOSPHORUS',\n",
        "              'PHTHALOCYANINE',\n",
        "              'PHYSOSTIGMINE',\n",
        "              'PINEAPPLE',\n",
        "              'PINITOL',\n",
        "              'PIPERAZINE',\n",
        "              'PIPERINE',\n",
        "              'PISTACHIO',\n",
        "              'PLATINUM',\n",
        "              'PLUM',\n",
        "              'POMEGRANATE',\n",
        "              'PORK',\n",
        "              'POTASSIUM',\n",
        "              'POTATO',\n",
        "              'POULTRY',\n",
        "              'PROCAINE',\n",
        "              'PROFLAVINE',\n",
        "              'PROGESTERONE',\n",
        "              'PROLINE',\n",
        "              'PROTAMINE',\n",
        "              'PROTHROMBIN',\n",
        "              'PROTOCATECHUALDEHYDE',\n",
        "              'PROTOPORPHYRIN',\n",
        "              'PSEUDOEPHEDRINE',\n",
        "              'PSEUDOTROPINE',\n",
        "              'PUMICE',\n",
        "              'PUMPKIN',\n",
        "              'PURSLANE',\n",
        "              'PUTRESCINE',\n",
        "              'RABBIT',\n",
        "              'RADISH',\n",
        "              'RASPBERRY',\n",
        "              'REPOSAL',\n",
        "              'RESORCINOL',\n",
        "              'RHAMNOSE',\n",
        "              'RHEIN',\n",
        "              'RHUBARB',\n",
        "              'RIBOFLAVIN',\n",
        "              'RIBOSE',\n",
        "              'RICE',\n",
        "              'ROSEMARY',\n",
        "              'ROSIN',\n",
        "              'ROTENONE',\n",
        "              'RUBIDIUM',\n",
        "              'RUTIN',\n",
        "              'RYE',\n",
        "              'SACCHARIN',\n",
        "              'SAFFLOWER',\n",
        "              'SAGE',\n",
        "              'SALICYLAMIDE',\n",
        "              'SALOL',\n",
        "              'SAMARIUM',\n",
        "              'SARCOSINE',\n",
        "              'SCALLOP',\n",
        "              'SCOPOLAMINE',\n",
        "              'SELENIUM',\n",
        "              'SENNA',\n",
        "              'SERINE',\n",
        "              'SHRIMP',\n",
        "              'SILICON',\n",
        "              'SILVER',\n",
        "              'SMELT',\n",
        "              'SNAIL',\n",
        "              'SONATA',\n",
        "              'SORBITOL',\n",
        "              'SOYBEAN',\n",
        "              'SPARTEINE',\n",
        "              'SPEARMINT',\n",
        "              'SPERMACETI',\n",
        "              'SPERMIDINE',\n",
        "              'SPERMINE',\n",
        "              'SPHINGOSINE',\n",
        "              'SPINACH',\n",
        "              'SQUALENE',\n",
        "              'SQUASH',\n",
        "              'STRAWBERRY',\n",
        "              'SUCCINIMIDE',\n",
        "              'SUCROSE',\n",
        "              'SWORDFISH',\n",
        "              'TABLOID',\n",
        "              'TAGATOSE',\n",
        "              'TALC',\n",
        "              'TANGERINE',\n",
        "              'TANTALUM',\n",
        "              'TARTRONATE',\n",
        "              'TAURINE',\n",
        "              'TENUATE',\n",
        "              'TERPINEOL',\n",
        "              'TESTOSTERONE',\n",
        "              'TETRAMETHYLAMMONIUM',\n",
        "              'THEOBROMINE',\n",
        "              'THEOPHYLLINE',\n",
        "              'THIAMINE',\n",
        "              'THREONINE',\n",
        "              'THROMBIN',\n",
        "              'THYME',\n",
        "              'THYMINE',\n",
        "              'THYMOL',\n",
        "              'THYROID',\n",
        "              'TING',\n",
        "              'TITANIUM',\n",
        "              'TOCOPHEROL',\n",
        "              'TOLUENE',\n",
        "              'TOMATO',\n",
        "              'TRAGACANTH',\n",
        "              'TREHALOSE',\n",
        "              'TRIBUTYRIN',\n",
        "              'TRIOLEIN',\n",
        "              'TROUT',\n",
        "              'TRYPSIN',\n",
        "              'TUBOCURARINE',\n",
        "              'TUNA',\n",
        "              'TURKEY',\n",
        "              'TURMERIC',\n",
        "              'TURNIP',\n",
        "              'TURPENTINE',\n",
        "              'TYRAMINE',\n",
        "              'TYROSINASE',\n",
        "              'TYROSINE',\n",
        "              'URACIL',\n",
        "              'UREA',\n",
        "              'URETHANE',\n",
        "              'VALERIAN',\n",
        "              'VALINE',\n",
        "              'VANADIUM',\n",
        "              'VANILLA',\n",
        "              'VEAL',\n",
        "              'VENISON',\n",
        "              'VERBENONE',\n",
        "              'VERSED',\n",
        "              'VITAMIN',\n",
        "              'VORTEX',\n",
        "              'WATER',\n",
        "              'WATERMELON',\n",
        "              'WHEAT',\n",
        "              'WORMWOOD',\n",
        "              'XANTHINE',\n",
        "              'XENON',\n",
        "              'XYLITOL',\n",
        "              'XYLOSE',\n",
        "              'YEAST',\n",
        "              'ZINC',\n",
        "              'ZINGERONE'}\n",
        "\n",
        "# Drug names which are sufficiently generic that they may occur lower case\n",
        "words_to_allow_lower_case = {'amphetamine',\n",
        "                             'andrographolide',\n",
        "                             'apomorphine',\n",
        "                             'arbutin',\n",
        "                             'arecoline',\n",
        "                             'aspirin',\n",
        "                             'atropine',\n",
        "                             'bacitracin',\n",
        "                             'barbital',\n",
        "                             'benzocaine',\n",
        "                             'benzofuran',\n",
        "                             'benzylpenicillin',\n",
        "                             'biguanide',\n",
        "                             'biotin',\n",
        "                             'cannabinol',\n",
        "                             'cantharidin',\n",
        "                             'carbromal',\n",
        "                             'cathine',\n",
        "                             'chloramphenicol',\n",
        "                             'chloroform',\n",
        "                             'chloroquine',\n",
        "                             'codeine',\n",
        "                             'colchicine',\n",
        "                             'cortisone',\n",
        "                             'emend',\n",
        "                             'epinephrine',\n",
        "                             'estrogen',\n",
        "                             'ethylenediamine',\n",
        "                             'ethylmorphine',\n",
        "                             'factive',\n",
        "                             'fibrinolysin',\n",
        "                             'hexylresorcinol',\n",
        "                             'hydroquinine',\n",
        "                             'hydroquinone',\n",
        "                             'lustral',\n",
        "                             'methadone',\n",
        "                             'methenamine',\n",
        "                             'morphine',\n",
        "                             'oxyquinoline',\n",
        "                             'paregoric',\n",
        "                             'penicillin',\n",
        "                             'pentobarbital',\n",
        "                             'phenobarbital',\n",
        "                             'picropodophyllin',\n",
        "                             'picrotoxin',\n",
        "                             'pilocarpine',\n",
        "                             'podophyllin',\n",
        "                             'psyllium',\n",
        "                             'pyrazole',\n",
        "                             'pyridoxine',\n",
        "                             'pyruvaldehyde',\n",
        "                             'quercetin',\n",
        "                             'quinacrine',\n",
        "                             'quinidine',\n",
        "                             'quinine',\n",
        "                             'streptomycin',\n",
        "                             'strychnine',\n",
        "                             'sulfadiazine',\n",
        "                             'sulfaguanidine',\n",
        "                             'sulfamerazine',\n",
        "                             'sulfamethazine',\n",
        "                             'sulfamethylthiazole',\n",
        "                             'sulfanilamide',\n",
        "                             'sulfapyridine',\n",
        "                             'sulfaquinoxaline',\n",
        "                             'sulfathiazole',\n",
        "                             'thymoquinone',\n",
        "                             'thyroglobulin',\n",
        "                             'trichloroethylene',\n",
        "                             'trinitrotoluene',\n",
        "                             'tryptophan',\n",
        "                             'yohimbine'}\n",
        "\n",
        "variant_regex = re.compile(r'^[A-Za-z][a-z]+(?:[ -][A-Z])?$')\n",
        "\n",
        "\n",
        "def add_variant(canonical_name, variant):\n",
        "    if variant not in drug_variant_to_canonical:\n",
        "        drug_variant_to_canonical[variant] = set()\n",
        "    drug_variant_to_canonical[variant].add(canonical_name)\n",
        "\n",
        "\n",
        "def add_drug(id, synonyms):\n",
        "    synonyms = [s.strip() for s in synonyms]\n",
        "    if re.sub(\"[- ].+\", \"\", synonyms[0].upper()) in exclusions:\n",
        "        return\n",
        "    if not variant_regex.match(synonyms[0]):\n",
        "        return\n",
        "    if synonyms[0] not in drug_canonical_to_data:\n",
        "        drug_canonical_to_data[synonyms[0]] = {\"name\": synonyms[0], \"synonyms\": set()}\n",
        "    if id.startswith(\"a\"):\n",
        "        drug_canonical_to_data[synonyms[0]][\"medline_plus_id\"] = id\n",
        "    elif id.startswith(\"https://www.nhs.uk\"):\n",
        "        drug_canonical_to_data[synonyms[0]][\"nhs_url\"] = id\n",
        "    elif id.startswith(\"https://en.wikipedia\"):\n",
        "        drug_canonical_to_data[synonyms[0]][\"wikipedia_url\"] = id\n",
        "    elif id.startswith(\"DB\"):\n",
        "        drug_canonical_to_data[synonyms[0]][\"drugbank_id\"] = id\n",
        "    else:\n",
        "        drug_canonical_to_data[synonyms[0]][\"mesh_id\"] = id\n",
        "    for variant in synonyms:\n",
        "        if re.sub(\" .+\", \"\", variant.upper()) in exclusions:\n",
        "            return\n",
        "        if variant_regex.match(variant):\n",
        "            drug_canonical_to_data[synonyms[0]][\"synonyms\"].add(variant)\n",
        "            add_variant(synonyms[0], variant)\n",
        "            add_variant(synonyms[0], variant.upper())\n",
        "            if variant.lower() in words_to_allow_lower_case:\n",
        "                add_variant(synonyms[0], variant.lower())\n",
        "\n",
        "\n",
        "with open(this_path.joinpath(\"drugs_dictionary_medlineplus.csv\"), 'r', encoding=\"utf-8\") as csvfile:\n",
        "    spamreader = csv.reader(csvfile, delimiter=',')\n",
        "    headers = None\n",
        "    for row in spamreader:\n",
        "        if not headers:\n",
        "            headers = row\n",
        "            continue\n",
        "        id = row[0]\n",
        "        name = row[1]\n",
        "        synonyms = row[2].split(r\"\\|\")\n",
        "\n",
        "        name = re.sub(\n",
        "            \" (Injection|Oral Inhalation|Transdermal|Ophthalmic|Topical|Vaginal Cream|Nasal Spray|Transdermal Patch|Rectal)\",\n",
        "            \"\", name)\n",
        "\n",
        "        add_drug(id, [name] + synonyms)\n",
        "\n",
        "with open(this_path.joinpath(\"drugs_dictionary_nhs.csv\"), 'r', encoding=\"utf-8\") as csvfile:\n",
        "    spamreader = csv.reader(csvfile, delimiter=',')\n",
        "    headers = None\n",
        "    for row in spamreader:\n",
        "        if not headers:\n",
        "            headers = row\n",
        "            continue\n",
        "        id = row[0]\n",
        "        name = row[1]\n",
        "        synonyms = row[2].split(r\"\\|\")\n",
        "\n",
        "        add_drug(id, [name] + synonyms)\n",
        "\n",
        "\n",
        "with open(this_path.joinpath(\"drugs_dictionary_wikipedia.csv\"), 'r', encoding=\"utf-8\") as csvfile:\n",
        "    spamreader = csv.reader(csvfile, delimiter=',')\n",
        "    headers = None\n",
        "    for row in spamreader:\n",
        "        if not headers:\n",
        "            headers = row\n",
        "            continue\n",
        "        id = row[0]\n",
        "        name = row[1]\n",
        "        synonyms = row[2].split(r\"\\|\")\n",
        "\n",
        "        add_drug(id, [name] + synonyms)\n",
        "        \n",
        "with open(this_path.joinpath(\"drugs_dictionary_mesh.csv\"), 'r', encoding=\"utf-8\") as csvfile:\n",
        "    spamreader = csv.reader(csvfile, delimiter=',')\n",
        "    headers = None\n",
        "    for row in spamreader:\n",
        "        if not headers:\n",
        "            headers = row\n",
        "            continue\n",
        "        id = row[0]\n",
        "        name = row[1]\n",
        "        synonyms = row[2].split(r\"\\|\")\n",
        "        add_drug(id, [name] + synonyms)\n",
        "        \n",
        "with open(this_path.joinpath(\"drugbank vocabulary.csv\"), 'r', encoding=\"utf-8\") as csvfile:\n",
        "    spamreader = csv.reader(csvfile, delimiter=',')\n",
        "    headers = None\n",
        "    for row in spamreader:\n",
        "        if not headers:\n",
        "            headers = row\n",
        "            continue\n",
        "        id = row[0]\n",
        "        name = row[2]\n",
        "        synonyms = row[5].split(r\"\\|\")\n",
        "        add_drug(id, [name] + synonyms)\n",
        "\n",
        "\n",
        "def find_drugs(tokens: list, is_ignore_case: bool = False):\n",
        "    drug_matches = []\n",
        "    is_exclude = set()\n",
        "\n",
        "    # Search for 2 token sequences\n",
        "    for token_idx, token in enumerate(tokens[:-1]):\n",
        "        cand = token + \" \" + tokens[token_idx + 1]\n",
        "        if is_ignore_case:\n",
        "            match = drug_variant_to_canonical.get(cand.upper(), None)\n",
        "        else:\n",
        "            match = drug_variant_to_canonical.get(cand, None)\n",
        "        if match:\n",
        "            for m in match:\n",
        "                drug_matches.append((drug_canonical_to_data[m], token_idx, token_idx + 1))\n",
        "                is_exclude.add(token_idx)\n",
        "                is_exclude.add(token_idx + 1)\n",
        "\n",
        "    for token_idx, token in enumerate(tokens):\n",
        "        if token_idx in is_exclude:\n",
        "            continue\n",
        "        if is_ignore_case:\n",
        "            match = drug_variant_to_canonical.get(token.upper(), None)\n",
        "        else:\n",
        "            match = drug_variant_to_canonical.get(token, None)\n",
        "        if match:\n",
        "            for m in match:\n",
        "                drug_matches.append((drug_canonical_to_data[m], token_idx, token_idx))\n",
        "\n",
        "    return drug_matches"
      ],
      "metadata": {
        "id": "XliKkEk3ZbRE"
      },
      "execution_count": null,
      "outputs": []
    },
    {
      "cell_type": "code",
      "source": [
        "api_op = ['LACRIGEL EYE OINTMENT',\n",
        " 'FOLITRAX 15 MG WEEKLY',\n",
        " 'ONCE A WEEK ON SUNDAY',\n",
        " 'TAB.FOLIC ACID 5 MG MON-',\n",
        " 'FRIDAYS',\n",
        " 'TAB.HCQ 200MG OD',\n",
        " 'NANCY PF',\n",
        " 'COLD COMPRESSES']"
      ],
      "metadata": {
        "id": "5HgJ2YSQ8CCE"
      },
      "execution_count": null,
      "outputs": []
    },
    {
      "cell_type": "code",
      "source": [
        "import nltk\n",
        "nltk.download('punkt')"
      ],
      "metadata": {
        "colab": {
          "base_uri": "https://localhost:8080/"
        },
        "id": "ZfP40W2k0S7e",
        "outputId": "11324b74-9aeb-4206-81d4-23e19c95ee4d"
      },
      "execution_count": null,
      "outputs": [
        {
          "output_type": "stream",
          "name": "stderr",
          "text": [
            "[nltk_data] Downloading package punkt to /root/nltk_data...\n",
            "[nltk_data]   Unzipping tokenizers/punkt.zip.\n"
          ]
        },
        {
          "output_type": "execute_result",
          "data": {
            "text/plain": [
              "True"
            ]
          },
          "metadata": {},
          "execution_count": 8
        }
      ]
    },
    {
      "cell_type": "code",
      "source": [
        "# from nltk.tokenize import word_tokenize\n",
        "\n",
        "# l = word_tokenize(raw_text)\n",
        "# l"
      ],
      "metadata": {
        "id": "dGRXlsKK0GKC"
      },
      "execution_count": null,
      "outputs": []
    },
    {
      "cell_type": "code",
      "source": [
        "l2 = []\n",
        "for name in l:\n",
        "  flag = True\n",
        "  for char in name:\n",
        "    if char.isnumeric():\n",
        "      flag = False\n",
        "      break\n",
        "  if flag:\n",
        "      l2.append(name)\n",
        "l2"
      ],
      "metadata": {
        "id": "aInFISTD-YPL"
      },
      "execution_count": null,
      "outputs": []
    },
    {
      "cell_type": "code",
      "source": [
        "import string\n",
        "import re\n",
        "import nltk\n",
        "from nltk.tokenize import TweetTokenizer\n",
        "from nltk.tokenize import word_tokenize\n",
        "\n",
        "def clean_text(text):\n",
        "    # remove numbers\n",
        "    text_nonum = re.sub(r'\\d+', '', text)\n",
        "    # remove punctuations and convert characters to lower case\n",
        "    text_nopunct = \"\".join([char.lower() for char in text_nonum if char not in string.punctuation]) \n",
        "    # substitute multiple whitespace with single whitespace\n",
        "    # Also, removes leading and trailing whitespaces\n",
        "    text_no_doublespace = re.sub('\\s+', ' ', text_nopunct).strip()\n",
        "    return text_no_doublespace\n",
        "\n",
        "cleaned_text = clean_text(raw_text)\n",
        "text_t = word_tokenize(raw_text)\n",
        "print(text_t)"
      ],
      "metadata": {
        "id": "wrgJ2FzjrE2S"
      },
      "execution_count": null,
      "outputs": []
    },
    {
      "cell_type": "code",
      "source": [
        "import spacy\n",
        "import nltk\n",
        "\n",
        "from nltk.tokenize import word_tokenize\n",
        "sp = spacy.load('en_core_web_sm')\n",
        "\n",
        "all_stopwords = sp.Defaults.stop_words\n",
        "\n",
        "\n",
        "\n",
        "tokens_without_sw= [word for word in l2 if not word in all_stopwords]\n",
        "\n",
        "print(tokens_without_sw)\n",
        "print(len(tokens_without_sw))"
      ],
      "metadata": {
        "colab": {
          "base_uri": "https://localhost:8080/"
        },
        "id": "ID6YMhMjvoCo",
        "outputId": "46e6b087-d566-478f-ab96-78b1fd7e4aaa"
      },
      "execution_count": null,
      "outputs": [
        {
          "output_type": "stream",
          "name": "stdout",
          "text": [
            "['Medicine', 'Name', 'LOSAR', 'H', 'TAB', 'RECONERVE', 'FORTE', 'DROTIN-M', 'TAB', 'D-WELL', 'AQ', 'Batch', 'No', 'Ex', 'Date', 'Jan', 'Aug', 'Jun', 'MRP', 'Amount']\n",
            "20\n"
          ]
        }
      ]
    },
    {
      "cell_type": "code",
      "source": [
        "import pandas as pd\n",
        "df = pd.read_csv('/content/A_Z_medicines_dataset_of_India.csv')\n",
        "df"
      ],
      "metadata": {
        "id": "OENp1kkgtzuV",
        "colab": {
          "base_uri": "https://localhost:8080/",
          "height": 554
        },
        "outputId": "e6641069-3fd7-45cd-9b6a-2e872a1a37cb"
      },
      "execution_count": null,
      "outputs": [
        {
          "output_type": "execute_result",
          "data": {
            "text/plain": [
              "            id                           name  price(₹)  Is_discontinued  \\\n",
              "0            1       Augmentin 625 Duo Tablet    223.42            False   \n",
              "1            2            Azithral 500 Tablet    132.36            False   \n",
              "2            3               Ascoril LS Syrup    118.00            False   \n",
              "3            4           Allegra 120mg Tablet    218.81            False   \n",
              "4            5                 Avil 25 Tablet     10.96            False   \n",
              "...        ...                            ...       ...              ...   \n",
              "253968  253969  Ziyapod 100mg Oral Suspension     62.30            False   \n",
              "253969  253970            Zemhart 30mg Tablet     54.00            False   \n",
              "253970  253971              Zivex 25mg Tablet     57.00            False   \n",
              "253971  253972        ZI Fast 500mg Injection    152.00            False   \n",
              "253972  253973      Zyvocol 1% Dusting Powder    110.00            False   \n",
              "\n",
              "                            manufacturer_name       type  \\\n",
              "0        Glaxo SmithKline Pharmaceuticals Ltd  allopathy   \n",
              "1                 Alembic Pharmaceuticals Ltd  allopathy   \n",
              "2                Glenmark Pharmaceuticals Ltd  allopathy   \n",
              "3                           Sanofi India  Ltd  allopathy   \n",
              "4                           Sanofi India  Ltd  allopathy   \n",
              "...                                       ...        ...   \n",
              "253968            Ziyana Lifesciences Pvt Ltd  allopathy   \n",
              "253969                 Leeford Healthcare Ltd  allopathy   \n",
              "253970                          Euro Organics  allopathy   \n",
              "253971  Burgeon Health Series Private Limited  allopathy   \n",
              "253972                         GBK Healthcare  allopathy   \n",
              "\n",
              "                        pack_size_label            short_composition1  \\\n",
              "0                   strip of 10 tablets         Amoxycillin  (500mg)    \n",
              "1                    strip of 5 tablets          Azithromycin (500mg)   \n",
              "2                bottle of 100 ml Syrup          Ambroxol (30mg/5ml)    \n",
              "3                   strip of 10 tablets          Fexofenadine (120mg)   \n",
              "4                   strip of 15 tablets            Pheniramine (25mg)   \n",
              "...                                 ...                           ...   \n",
              "253968  bottle of 30 ml Oral Suspension  Cefpodoxime Proxetil (100mg)   \n",
              "253969              strip of 10 tablets              Diltiazem (30mg)   \n",
              "253970              strip of 10 tablets            Hydroxyzine (25mg)   \n",
              "253971              vial of 1 Injection          Azithromycin (500mg)   \n",
              "253972   bottle of 75 gm Dusting Powder         Clotrimazole (1% w/w)   \n",
              "\n",
              "                short_composition2  \n",
              "0          Clavulanic Acid (125mg)  \n",
              "1                              NaN  \n",
              "2        Levosalbutamol (1mg/5ml)   \n",
              "3                              NaN  \n",
              "4                              NaN  \n",
              "...                            ...  \n",
              "253968                         NaN  \n",
              "253969                         NaN  \n",
              "253970                         NaN  \n",
              "253971                         NaN  \n",
              "253972                         NaN  \n",
              "\n",
              "[253973 rows x 9 columns]"
            ],
            "text/html": [
              "\n",
              "  <div id=\"df-ad9a33f3-721f-47d6-b120-cd3e20cc571a\">\n",
              "    <div class=\"colab-df-container\">\n",
              "      <div>\n",
              "<style scoped>\n",
              "    .dataframe tbody tr th:only-of-type {\n",
              "        vertical-align: middle;\n",
              "    }\n",
              "\n",
              "    .dataframe tbody tr th {\n",
              "        vertical-align: top;\n",
              "    }\n",
              "\n",
              "    .dataframe thead th {\n",
              "        text-align: right;\n",
              "    }\n",
              "</style>\n",
              "<table border=\"1\" class=\"dataframe\">\n",
              "  <thead>\n",
              "    <tr style=\"text-align: right;\">\n",
              "      <th></th>\n",
              "      <th>id</th>\n",
              "      <th>name</th>\n",
              "      <th>price(₹)</th>\n",
              "      <th>Is_discontinued</th>\n",
              "      <th>manufacturer_name</th>\n",
              "      <th>type</th>\n",
              "      <th>pack_size_label</th>\n",
              "      <th>short_composition1</th>\n",
              "      <th>short_composition2</th>\n",
              "    </tr>\n",
              "  </thead>\n",
              "  <tbody>\n",
              "    <tr>\n",
              "      <th>0</th>\n",
              "      <td>1</td>\n",
              "      <td>Augmentin 625 Duo Tablet</td>\n",
              "      <td>223.42</td>\n",
              "      <td>False</td>\n",
              "      <td>Glaxo SmithKline Pharmaceuticals Ltd</td>\n",
              "      <td>allopathy</td>\n",
              "      <td>strip of 10 tablets</td>\n",
              "      <td>Amoxycillin  (500mg)</td>\n",
              "      <td>Clavulanic Acid (125mg)</td>\n",
              "    </tr>\n",
              "    <tr>\n",
              "      <th>1</th>\n",
              "      <td>2</td>\n",
              "      <td>Azithral 500 Tablet</td>\n",
              "      <td>132.36</td>\n",
              "      <td>False</td>\n",
              "      <td>Alembic Pharmaceuticals Ltd</td>\n",
              "      <td>allopathy</td>\n",
              "      <td>strip of 5 tablets</td>\n",
              "      <td>Azithromycin (500mg)</td>\n",
              "      <td>NaN</td>\n",
              "    </tr>\n",
              "    <tr>\n",
              "      <th>2</th>\n",
              "      <td>3</td>\n",
              "      <td>Ascoril LS Syrup</td>\n",
              "      <td>118.00</td>\n",
              "      <td>False</td>\n",
              "      <td>Glenmark Pharmaceuticals Ltd</td>\n",
              "      <td>allopathy</td>\n",
              "      <td>bottle of 100 ml Syrup</td>\n",
              "      <td>Ambroxol (30mg/5ml)</td>\n",
              "      <td>Levosalbutamol (1mg/5ml)</td>\n",
              "    </tr>\n",
              "    <tr>\n",
              "      <th>3</th>\n",
              "      <td>4</td>\n",
              "      <td>Allegra 120mg Tablet</td>\n",
              "      <td>218.81</td>\n",
              "      <td>False</td>\n",
              "      <td>Sanofi India  Ltd</td>\n",
              "      <td>allopathy</td>\n",
              "      <td>strip of 10 tablets</td>\n",
              "      <td>Fexofenadine (120mg)</td>\n",
              "      <td>NaN</td>\n",
              "    </tr>\n",
              "    <tr>\n",
              "      <th>4</th>\n",
              "      <td>5</td>\n",
              "      <td>Avil 25 Tablet</td>\n",
              "      <td>10.96</td>\n",
              "      <td>False</td>\n",
              "      <td>Sanofi India  Ltd</td>\n",
              "      <td>allopathy</td>\n",
              "      <td>strip of 15 tablets</td>\n",
              "      <td>Pheniramine (25mg)</td>\n",
              "      <td>NaN</td>\n",
              "    </tr>\n",
              "    <tr>\n",
              "      <th>...</th>\n",
              "      <td>...</td>\n",
              "      <td>...</td>\n",
              "      <td>...</td>\n",
              "      <td>...</td>\n",
              "      <td>...</td>\n",
              "      <td>...</td>\n",
              "      <td>...</td>\n",
              "      <td>...</td>\n",
              "      <td>...</td>\n",
              "    </tr>\n",
              "    <tr>\n",
              "      <th>253968</th>\n",
              "      <td>253969</td>\n",
              "      <td>Ziyapod 100mg Oral Suspension</td>\n",
              "      <td>62.30</td>\n",
              "      <td>False</td>\n",
              "      <td>Ziyana Lifesciences Pvt Ltd</td>\n",
              "      <td>allopathy</td>\n",
              "      <td>bottle of 30 ml Oral Suspension</td>\n",
              "      <td>Cefpodoxime Proxetil (100mg)</td>\n",
              "      <td>NaN</td>\n",
              "    </tr>\n",
              "    <tr>\n",
              "      <th>253969</th>\n",
              "      <td>253970</td>\n",
              "      <td>Zemhart 30mg Tablet</td>\n",
              "      <td>54.00</td>\n",
              "      <td>False</td>\n",
              "      <td>Leeford Healthcare Ltd</td>\n",
              "      <td>allopathy</td>\n",
              "      <td>strip of 10 tablets</td>\n",
              "      <td>Diltiazem (30mg)</td>\n",
              "      <td>NaN</td>\n",
              "    </tr>\n",
              "    <tr>\n",
              "      <th>253970</th>\n",
              "      <td>253971</td>\n",
              "      <td>Zivex 25mg Tablet</td>\n",
              "      <td>57.00</td>\n",
              "      <td>False</td>\n",
              "      <td>Euro Organics</td>\n",
              "      <td>allopathy</td>\n",
              "      <td>strip of 10 tablets</td>\n",
              "      <td>Hydroxyzine (25mg)</td>\n",
              "      <td>NaN</td>\n",
              "    </tr>\n",
              "    <tr>\n",
              "      <th>253971</th>\n",
              "      <td>253972</td>\n",
              "      <td>ZI Fast 500mg Injection</td>\n",
              "      <td>152.00</td>\n",
              "      <td>False</td>\n",
              "      <td>Burgeon Health Series Private Limited</td>\n",
              "      <td>allopathy</td>\n",
              "      <td>vial of 1 Injection</td>\n",
              "      <td>Azithromycin (500mg)</td>\n",
              "      <td>NaN</td>\n",
              "    </tr>\n",
              "    <tr>\n",
              "      <th>253972</th>\n",
              "      <td>253973</td>\n",
              "      <td>Zyvocol 1% Dusting Powder</td>\n",
              "      <td>110.00</td>\n",
              "      <td>False</td>\n",
              "      <td>GBK Healthcare</td>\n",
              "      <td>allopathy</td>\n",
              "      <td>bottle of 75 gm Dusting Powder</td>\n",
              "      <td>Clotrimazole (1% w/w)</td>\n",
              "      <td>NaN</td>\n",
              "    </tr>\n",
              "  </tbody>\n",
              "</table>\n",
              "<p>253973 rows × 9 columns</p>\n",
              "</div>\n",
              "      <button class=\"colab-df-convert\" onclick=\"convertToInteractive('df-ad9a33f3-721f-47d6-b120-cd3e20cc571a')\"\n",
              "              title=\"Convert this dataframe to an interactive table.\"\n",
              "              style=\"display:none;\">\n",
              "        \n",
              "  <svg xmlns=\"http://www.w3.org/2000/svg\" height=\"24px\"viewBox=\"0 0 24 24\"\n",
              "       width=\"24px\">\n",
              "    <path d=\"M0 0h24v24H0V0z\" fill=\"none\"/>\n",
              "    <path d=\"M18.56 5.44l.94 2.06.94-2.06 2.06-.94-2.06-.94-.94-2.06-.94 2.06-2.06.94zm-11 1L8.5 8.5l.94-2.06 2.06-.94-2.06-.94L8.5 2.5l-.94 2.06-2.06.94zm10 10l.94 2.06.94-2.06 2.06-.94-2.06-.94-.94-2.06-.94 2.06-2.06.94z\"/><path d=\"M17.41 7.96l-1.37-1.37c-.4-.4-.92-.59-1.43-.59-.52 0-1.04.2-1.43.59L10.3 9.45l-7.72 7.72c-.78.78-.78 2.05 0 2.83L4 21.41c.39.39.9.59 1.41.59.51 0 1.02-.2 1.41-.59l7.78-7.78 2.81-2.81c.8-.78.8-2.07 0-2.86zM5.41 20L4 18.59l7.72-7.72 1.47 1.35L5.41 20z\"/>\n",
              "  </svg>\n",
              "      </button>\n",
              "      \n",
              "  <style>\n",
              "    .colab-df-container {\n",
              "      display:flex;\n",
              "      flex-wrap:wrap;\n",
              "      gap: 12px;\n",
              "    }\n",
              "\n",
              "    .colab-df-convert {\n",
              "      background-color: #E8F0FE;\n",
              "      border: none;\n",
              "      border-radius: 50%;\n",
              "      cursor: pointer;\n",
              "      display: none;\n",
              "      fill: #1967D2;\n",
              "      height: 32px;\n",
              "      padding: 0 0 0 0;\n",
              "      width: 32px;\n",
              "    }\n",
              "\n",
              "    .colab-df-convert:hover {\n",
              "      background-color: #E2EBFA;\n",
              "      box-shadow: 0px 1px 2px rgba(60, 64, 67, 0.3), 0px 1px 3px 1px rgba(60, 64, 67, 0.15);\n",
              "      fill: #174EA6;\n",
              "    }\n",
              "\n",
              "    [theme=dark] .colab-df-convert {\n",
              "      background-color: #3B4455;\n",
              "      fill: #D2E3FC;\n",
              "    }\n",
              "\n",
              "    [theme=dark] .colab-df-convert:hover {\n",
              "      background-color: #434B5C;\n",
              "      box-shadow: 0px 1px 3px 1px rgba(0, 0, 0, 0.15);\n",
              "      filter: drop-shadow(0px 1px 2px rgba(0, 0, 0, 0.3));\n",
              "      fill: #FFFFFF;\n",
              "    }\n",
              "  </style>\n",
              "\n",
              "      <script>\n",
              "        const buttonEl =\n",
              "          document.querySelector('#df-ad9a33f3-721f-47d6-b120-cd3e20cc571a button.colab-df-convert');\n",
              "        buttonEl.style.display =\n",
              "          google.colab.kernel.accessAllowed ? 'block' : 'none';\n",
              "\n",
              "        async function convertToInteractive(key) {\n",
              "          const element = document.querySelector('#df-ad9a33f3-721f-47d6-b120-cd3e20cc571a');\n",
              "          const dataTable =\n",
              "            await google.colab.kernel.invokeFunction('convertToInteractive',\n",
              "                                                     [key], {});\n",
              "          if (!dataTable) return;\n",
              "\n",
              "          const docLinkHtml = 'Like what you see? Visit the ' +\n",
              "            '<a target=\"_blank\" href=https://colab.research.google.com/notebooks/data_table.ipynb>data table notebook</a>'\n",
              "            + ' to learn more about interactive tables.';\n",
              "          element.innerHTML = '';\n",
              "          dataTable['output_type'] = 'display_data';\n",
              "          await google.colab.output.renderOutput(dataTable, element);\n",
              "          const docLink = document.createElement('div');\n",
              "          docLink.innerHTML = docLinkHtml;\n",
              "          element.appendChild(docLink);\n",
              "        }\n",
              "      </script>\n",
              "    </div>\n",
              "  </div>\n",
              "  "
            ]
          },
          "metadata": {},
          "execution_count": 14
        }
      ]
    },
    {
      "cell_type": "code",
      "source": [
        "!pip install thefuzz"
      ],
      "metadata": {
        "colab": {
          "base_uri": "https://localhost:8080/"
        },
        "id": "BmyMyUOpkqtV",
        "outputId": "611254f3-f2ce-4b44-a3f1-addfcfaeed12"
      },
      "execution_count": null,
      "outputs": [
        {
          "output_type": "stream",
          "name": "stdout",
          "text": [
            "Looking in indexes: https://pypi.org/simple, https://us-python.pkg.dev/colab-wheels/public/simple/\n",
            "Collecting thefuzz\n",
            "  Downloading thefuzz-0.19.0-py2.py3-none-any.whl (17 kB)\n",
            "Installing collected packages: thefuzz\n",
            "Successfully installed thefuzz-0.19.0\n"
          ]
        }
      ]
    },
    {
      "cell_type": "code",
      "source": [
        "!pip install python-Levenshtein"
      ],
      "metadata": {
        "colab": {
          "base_uri": "https://localhost:8080/"
        },
        "id": "IFMITT-MB6Qo",
        "outputId": "7cd599fd-7679-478b-d3e5-7e2ab94fdfa9"
      },
      "execution_count": null,
      "outputs": [
        {
          "output_type": "stream",
          "name": "stdout",
          "text": [
            "Looking in indexes: https://pypi.org/simple, https://us-python.pkg.dev/colab-wheels/public/simple/\n",
            "Collecting python-Levenshtein\n",
            "  Downloading python_Levenshtein-0.20.9-py3-none-any.whl (9.4 kB)\n",
            "Collecting Levenshtein==0.20.9\n",
            "  Downloading Levenshtein-0.20.9-cp39-cp39-manylinux_2_17_x86_64.manylinux2014_x86_64.whl (175 kB)\n",
            "\u001b[2K     \u001b[90m━━━━━━━━━━━━━━━━━━━━━━━━━━━━━━━━━━━━━━━\u001b[0m \u001b[32m175.5/175.5 KB\u001b[0m \u001b[31m6.9 MB/s\u001b[0m eta \u001b[36m0:00:00\u001b[0m\n",
            "\u001b[?25hCollecting rapidfuzz<3.0.0,>=2.3.0\n",
            "  Downloading rapidfuzz-2.13.7-cp39-cp39-manylinux_2_17_x86_64.manylinux2014_x86_64.whl (2.2 MB)\n",
            "\u001b[2K     \u001b[90m━━━━━━━━━━━━━━━━━━━━━━━━━━━━━━━━━━━━━━━━\u001b[0m \u001b[32m2.2/2.2 MB\u001b[0m \u001b[31m58.1 MB/s\u001b[0m eta \u001b[36m0:00:00\u001b[0m\n",
            "\u001b[?25hInstalling collected packages: rapidfuzz, Levenshtein, python-Levenshtein\n",
            "Successfully installed Levenshtein-0.20.9 python-Levenshtein-0.20.9 rapidfuzz-2.13.7\n"
          ]
        }
      ]
    },
    {
      "cell_type": "code",
      "source": [
        "!pip install fuzzywuzzy"
      ],
      "metadata": {
        "colab": {
          "base_uri": "https://localhost:8080/"
        },
        "id": "uJXdpqUg0n7C",
        "outputId": "a090aad5-c98b-4de4-f467-c6af169fe97d"
      },
      "execution_count": null,
      "outputs": [
        {
          "output_type": "stream",
          "name": "stdout",
          "text": [
            "Looking in indexes: https://pypi.org/simple, https://us-python.pkg.dev/colab-wheels/public/simple/\n",
            "Collecting fuzzywuzzy\n",
            "  Downloading fuzzywuzzy-0.18.0-py2.py3-none-any.whl (18 kB)\n",
            "Installing collected packages: fuzzywuzzy\n",
            "Successfully installed fuzzywuzzy-0.18.0\n"
          ]
        }
      ]
    },
    {
      "cell_type": "code",
      "source": [
        "output = []\n",
        "\n",
        "from fuzzywuzzy import process\n",
        "choices = df['name']\n",
        "for each in api_op:\n",
        "  output.append(process.extractOne(each,choices))\n",
        "output"
      ],
      "metadata": {
        "colab": {
          "base_uri": "https://localhost:8080/"
        },
        "id": "1nsNvC2G0Waa",
        "outputId": "3f5b0a76-1247-4a64-f454-b94775cdcec3"
      },
      "execution_count": null,
      "outputs": [
        {
          "output_type": "execute_result",
          "data": {
            "text/plain": [
              "[('Apdrops KT 0.4 Eye Drops BAK Free', 86, 574),\n",
              " ('Alprax Forte 0.5 mg/50 mg Tablet', 86, 461),\n",
              " ('A Ret HC Cream', 86, 770),\n",
              " ('Amlip 5 Tablet', 86, 95),\n",
              " ('Klariday 500mg Injection', 66, 119073),\n",
              " ('Algesia CR 200mg/20mg Capsule', 86, 286),\n",
              " ('Aquim PF Eye Drop', 86, 418),\n",
              " ('Alkem Cold 5 mg/500 mg/5 mg Tablet', 86, 686)]"
            ]
          },
          "metadata": {},
          "execution_count": 18
        }
      ]
    },
    {
      "cell_type": "code",
      "source": [
        "len(output)"
      ],
      "metadata": {
        "colab": {
          "base_uri": "https://localhost:8080/"
        },
        "id": "lj-4TsEpBbmi",
        "outputId": "cb14bfb4-99e5-488b-992c-63b5f4cfb751"
      },
      "execution_count": null,
      "outputs": [
        {
          "output_type": "execute_result",
          "data": {
            "text/plain": [
              "20"
            ]
          },
          "metadata": {},
          "execution_count": 35
        }
      ]
    },
    {
      "cell_type": "code",
      "source": [
        "!pip install transformers"
      ],
      "metadata": {
        "id": "whmMQCL1sFvQ"
      },
      "execution_count": null,
      "outputs": []
    },
    {
      "cell_type": "code",
      "source": [
        "import nltk\n",
        "from nltk.corpus import stopwords\n",
        "from nltk.tokenize import word_tokenize\n",
        "import torch\n",
        "from transformers import AutoTokenizer, AutoModel\n",
        "import pandas as pd\n",
        "\n",
        "#model_name = \"bert-base-uncased\"\n",
        "model_name = \"emilyalsentzer/Bio_ClinicalBERT\"\n",
        "#model_name = 'bert-large-uncased'\n",
        "tokenizer = AutoTokenizer.from_pretrained(model_name)\n",
        "model = AutoModel.from_pretrained(model_name)\n",
        "\n",
        "#search_vector = torch.Tensor(model(tokenizer(\"TEARS NATURALE FORTE EYE DROPS\", return_tensors=\"pt\",padding=True, truncation=True)[\"input_ids\"])[1])\n",
        "for i in df.index[0:100]:\n",
        "  page_vector = torch.Tensor(model(tokenizer(df['name'][i], return_tensors=\"pt\",padding=True, truncation=True)[\"input_ids\"])[1])\n",
        "  df['embeded'][i] = page_vector\n",
        "#cosine_similarity = torch.nn.functional.cosine_similarity(search_vector, page_vector)\n"
      ],
      "metadata": {
        "id": "L3RGygICrIXh"
      },
      "execution_count": null,
      "outputs": []
    },
    {
      "cell_type": "code",
      "source": [
        "search_vector = torch.Tensor(model(tokenizer(\"Arkamin\", return_tensors=\"pt\",padding=True, truncation=True)[\"input_ids\"])[1])"
      ],
      "metadata": {
        "id": "0AToPAZVsdma"
      },
      "execution_count": null,
      "outputs": []
    },
    {
      "cell_type": "code",
      "source": [
        "maxi = 0\n",
        "inde = -1\n",
        "for i in df.index[0:100]:\n",
        "  cosine_similarity = torch.nn.functional.cosine_similarity(search_vector, df['embeded'][i])\n",
        "  if cosine_similarity > maxi:\n",
        "    maxi = cosine_similarity\n",
        "    inde = i\n",
        "\n",
        "print(df['name'][inde])\n",
        "print(maxi)\n",
        "print(inde)"
      ],
      "metadata": {
        "colab": {
          "base_uri": "https://localhost:8080/"
        },
        "id": "CWVa34yFsxIz",
        "outputId": "2655087e-5488-44f2-a91e-8a44f657d1b1"
      },
      "execution_count": null,
      "outputs": [
        {
          "output_type": "stream",
          "name": "stdout",
          "text": [
            "Aquasol A Capsule\n",
            "tensor([0.9725], grad_fn=<SumBackward1>)\n",
            "72\n"
          ]
        }
      ]
    },
    {
      "cell_type": "code",
      "source": [
        "# model_name = \"emilyalsentzer/Bio_ClinicalBERT\"\n",
        "# tokenizer = AutoTokenizer.from_pretrained(model_name)\n",
        "# model = AutoModel.from_pretrained(model_name)\n",
        "\n",
        "search_vector = torch.Tensor(model(tokenizer(\"Arkamin\", return_tensors=\"pt\",padding=True, truncation=True)[\"input_ids\"])[1])\n",
        "\n",
        "page_vector = torch.Tensor(model(tokenizer(\"Arkamin Tablet\", return_tensors=\"pt\",padding=True, truncation=True)[\"input_ids\"])[1])\n",
        "cosine_similarity = torch.nn.functional.cosine_similarity(search_vector, page_vector)\n",
        "print(cosine_similarity)"
      ],
      "metadata": {
        "colab": {
          "base_uri": "https://localhost:8080/"
        },
        "id": "5GH9nQQrz9vQ",
        "outputId": "d985117e-6017-4baf-de0d-178c81d46ed4"
      },
      "execution_count": null,
      "outputs": [
        {
          "output_type": "stream",
          "name": "stdout",
          "text": [
            "tensor([0.9238], grad_fn=<SumBackward1>)\n"
          ]
        }
      ]
    },
    {
      "cell_type": "code",
      "source": [
        "response = \"\\nLVPED\\nSo that all may see\\nName: MRS. SEEMALA VIJAYA LAXMI\\nMRNO. #: P461250\\nBoth Eyes\\nBoth Eyes\\nOral\\nOral\\nOral\\nBoth Eyes\\nTopical\\nMedicine Name.\\nL V PRASAD EYE INSTITUTE (KAR CAMPUS)\\nKallam Anji Reddy Campus, LV Prasad Marg, Road No.2, Banjara Hills,\\nHyderabad, Telangana - 500034, Phone: +91-040-6810 2020, http://www.lvpei.org.\\nTEARS NATURALE FORTE\\nEYE DROPS\\nDate: 07-04-2021\\nLACRIGEL EYE OINTMENT\\nFOLITRAX 15 MG WEEKLY\\nONCE A WEEK ON SUNDAY\\nTAB.FOLIC ACID 5 MG MON-\\nFRIDAYS\\nTAB.HCQ 200MG OD\\nNANCY PF\\nCOLD COMPRESSES\\nReview to Clinic\\nOphthalmologist\\nFrontdesk Name:\\n1 Drop\\nPRESCRIPTION\\nDosage Qty. Timings Duration\\nEvery\\none\\nhour\\nTime: 04:04 PM\\nOPHTHALMOLOGIST: DR. RAKSHEETH NATHAN R\\n1\\n1 drop 1\\n0\\n2\\n- Physical Consultation - 6 Month(s)\\nDr.Muralidhara Ramappa\\nRoshan Saheb\\nhttp://172.16.154.18/bext/emr/modules/casesheet/speciali\\nFour\\ntimes a\\nday\\nOnce a\\nday\\nOnce a\\nday\\nTwice a\\nday\\nTill Next\\nVisit\\nTill Next\\nVisit\\nTill Next\\nVisit\\nTill Next\\nVisit\\nTill Next\\nVisit\\nTill Next\\nVisit\\nTill Next\\nVisit\\nGender: Female\\nR\\nAge: 45 Yrs\\nSpecial Instructions\\nJoin LVPEI in Serving the millions going blind in India. Join the Sight Savers & Supporters Program\\nRaksheeth.\\nDr. Raksheeth Nathan R\\n(OPHTHALMOLOGIST)\\nTSMC/FMR/15073\\n07-04-2021 04:04 PM\""
      ],
      "metadata": {
        "id": "k6Ki-wPh6caX"
      },
      "execution_count": null,
      "outputs": []
    },
    {
      "cell_type": "code",
      "source": [
        "l = response.split('\\n')\n",
        "l"
      ],
      "metadata": {
        "colab": {
          "base_uri": "https://localhost:8080/"
        },
        "id": "Qm8ZQyCWM4EG",
        "outputId": "c23d6266-50ed-4e92-ff65-1232d2395fb8"
      },
      "execution_count": null,
      "outputs": [
        {
          "output_type": "execute_result",
          "data": {
            "text/plain": [
              "['',\n",
              " 'LVPED',\n",
              " 'So that all may see',\n",
              " 'Name: MRS. SEEMALA VIJAYA LAXMI',\n",
              " 'MRNO. #: P461250',\n",
              " 'Both Eyes',\n",
              " 'Both Eyes',\n",
              " 'Oral',\n",
              " 'Oral',\n",
              " 'Oral',\n",
              " 'Both Eyes',\n",
              " 'Topical',\n",
              " 'Medicine Name.',\n",
              " 'L V PRASAD EYE INSTITUTE (KAR CAMPUS)',\n",
              " 'Kallam Anji Reddy Campus, LV Prasad Marg, Road No.2, Banjara Hills,',\n",
              " 'Hyderabad, Telangana - 500034, Phone: +91-040-6810 2020, http://www.lvpei.org.',\n",
              " 'TEARS NATURALE FORTE',\n",
              " 'EYE DROPS',\n",
              " 'Date: 07-04-2021',\n",
              " 'LACRIGEL EYE OINTMENT',\n",
              " 'FOLITRAX 15 MG WEEKLY',\n",
              " 'ONCE A WEEK ON SUNDAY',\n",
              " 'TAB.FOLIC ACID 5 MG MON-',\n",
              " 'FRIDAYS',\n",
              " 'TAB.HCQ 200MG OD',\n",
              " 'NANCY PF',\n",
              " 'COLD COMPRESSES',\n",
              " 'Review to Clinic',\n",
              " 'Ophthalmologist',\n",
              " 'Frontdesk Name:',\n",
              " '1 Drop',\n",
              " 'PRESCRIPTION',\n",
              " 'Dosage Qty. Timings Duration',\n",
              " 'Every',\n",
              " 'one',\n",
              " 'hour',\n",
              " 'Time: 04:04 PM',\n",
              " 'OPHTHALMOLOGIST: DR. RAKSHEETH NATHAN R',\n",
              " '1',\n",
              " '1 drop 1',\n",
              " '0',\n",
              " '2',\n",
              " '- Physical Consultation - 6 Month(s)',\n",
              " 'Dr.Muralidhara Ramappa',\n",
              " 'Roshan Saheb',\n",
              " 'http://172.16.154.18/bext/emr/modules/casesheet/speciali',\n",
              " 'Four',\n",
              " 'times a',\n",
              " 'day',\n",
              " 'Once a',\n",
              " 'day',\n",
              " 'Once a',\n",
              " 'day',\n",
              " 'Twice a',\n",
              " 'day',\n",
              " 'Till Next',\n",
              " 'Visit',\n",
              " 'Till Next',\n",
              " 'Visit',\n",
              " 'Till Next',\n",
              " 'Visit',\n",
              " 'Till Next',\n",
              " 'Visit',\n",
              " 'Till Next',\n",
              " 'Visit',\n",
              " 'Till Next',\n",
              " 'Visit',\n",
              " 'Till Next',\n",
              " 'Visit',\n",
              " 'Gender: Female',\n",
              " 'R',\n",
              " 'Age: 45 Yrs',\n",
              " 'Special Instructions',\n",
              " 'Join LVPEI in Serving the millions going blind in India. Join the Sight Savers & Supporters Program',\n",
              " 'Raksheeth.',\n",
              " 'Dr. Raksheeth Nathan R',\n",
              " '(OPHTHALMOLOGIST)',\n",
              " 'TSMC/FMR/15073',\n",
              " '07-04-2021 04:04 PM']"
            ]
          },
          "metadata": {},
          "execution_count": 44
        }
      ]
    },
    {
      "cell_type": "code",
      "source": [
        "import nltk\n",
        "from nltk.corpus import stopwords\n",
        "nltk.download('stopwords')\n",
        "from nltk.tokenize import word_tokenize"
      ],
      "metadata": {
        "colab": {
          "base_uri": "https://localhost:8080/"
        },
        "id": "UNezNSqQR_QK",
        "outputId": "fa8a90ed-45eb-43b9-dd9a-3de1e385921b"
      },
      "execution_count": null,
      "outputs": [
        {
          "output_type": "stream",
          "name": "stderr",
          "text": [
            "[nltk_data] Downloading package stopwords to /root/nltk_data...\n",
            "[nltk_data]   Package stopwords is already up-to-date!\n"
          ]
        }
      ]
    },
    {
      "cell_type": "code",
      "source": [
        "len(stopwords.words('english'))"
      ],
      "metadata": {
        "colab": {
          "base_uri": "https://localhost:8080/"
        },
        "id": "F6K87jYOVehO",
        "outputId": "115cf269-0c7b-4196-dd86-346571e96bb9"
      },
      "execution_count": null,
      "outputs": [
        {
          "output_type": "execute_result",
          "data": {
            "text/plain": [
              "179"
            ]
          },
          "metadata": {},
          "execution_count": 34
        }
      ]
    },
    {
      "cell_type": "code",
      "source": [
        "stopwords = nltk.corpus.stopwords.words('english')\n",
        "newStopWords = ['may','see','visit','day' ,'once','twice','Every']\n",
        "stopwords.extend(newStopWords)\n",
        "len(stopwords)"
      ],
      "metadata": {
        "colab": {
          "base_uri": "https://localhost:8080/"
        },
        "id": "IfX1pPE2SuY9",
        "outputId": "12a52489-2846-424c-ca91-7e5024b7735b"
      },
      "execution_count": null,
      "outputs": [
        {
          "output_type": "execute_result",
          "data": {
            "text/plain": [
              "186"
            ]
          },
          "metadata": {},
          "execution_count": 37
        }
      ]
    },
    {
      "cell_type": "code",
      "source": [
        "l = [*set(l)]\n",
        "\n",
        "m = []\n",
        "for sen in l:\n",
        "  k = sen.split()\n",
        "  #print(k)\n",
        "  filtered_sentence = []\n",
        "  for w in k:\n",
        "    if (not w.lower() in stopwords):\n",
        "      filtered_sentence.append(w)\n",
        "  s = \" \"\n",
        "  s = s.join(filtered_sentence)\n",
        "  #print(s)\n",
        "  m.append(s)\n",
        "  \n",
        "  #tokens_without_sw.append(sen)\n",
        "for sen in m:\n",
        "  if len(sen)<=2:\n",
        "    m.remove(sen)\n",
        "m"
      ],
      "metadata": {
        "colab": {
          "base_uri": "https://localhost:8080/"
        },
        "id": "viISEdxTSCyb",
        "outputId": "c5dd310b-4204-46c1-847e-15aad1e18882"
      },
      "execution_count": null,
      "outputs": [
        {
          "output_type": "execute_result",
          "data": {
            "text/plain": [
              "['Dr. Raksheeth Nathan R',\n",
              " '0',\n",
              " 'Age: 45 Yrs',\n",
              " 'LVPED',\n",
              " 'Kallam Anji Reddy Campus, LV Prasad Marg, Road No.2, Banjara Hills,',\n",
              " 'Medicine Name.',\n",
              " 'Topical',\n",
              " 'COLD COMPRESSES',\n",
              " 'LACRIGEL EYE OINTMENT',\n",
              " 'Time: 04:04 PM',\n",
              " '- Physical Consultation - 6 Month(s)',\n",
              " 'WEEK SUNDAY',\n",
              " 'Oral',\n",
              " 'Name: MRS. SEEMALA VIJAYA LAXMI',\n",
              " '1 drop 1',\n",
              " 'Four',\n",
              " 'NANCY PF',\n",
              " 'Dr.Muralidhara Ramappa',\n",
              " 'FRIDAYS',\n",
              " 'OPHTHALMOLOGIST: DR. RAKSHEETH NATHAN R',\n",
              " 'EYE DROPS',\n",
              " 'TAB.HCQ 200MG OD',\n",
              " 'FOLITRAX 15 MG WEEKLY',\n",
              " 'Review Clinic',\n",
              " 'Roshan Saheb',\n",
              " 'Gender: Female',\n",
              " 'TSMC/FMR/15073',\n",
              " '1 Drop',\n",
              " '07-04-2021 04:04 PM',\n",
              " 'times',\n",
              " 'Frontdesk Name:',\n",
              " 'MRNO. #: P461250',\n",
              " 'Ophthalmologist',\n",
              " '',\n",
              " 'Every',\n",
              " 'http://172.16.154.18/bext/emr/modules/casesheet/speciali',\n",
              " 'Hyderabad, Telangana - 500034, Phone: +91-040-6810 2020, http://www.lvpei.org.',\n",
              " 'Special Instructions',\n",
              " 'Till Next',\n",
              " '(OPHTHALMOLOGIST)',\n",
              " 'Dosage Qty. Timings Duration',\n",
              " 'one',\n",
              " 'L V PRASAD EYE INSTITUTE (KAR CAMPUS)',\n",
              " 'TEARS NATURALE FORTE',\n",
              " 'Raksheeth.',\n",
              " 'hour',\n",
              " 'TAB.FOLIC ACID 5 MG MON-',\n",
              " 'Eyes',\n",
              " 'Join LVPEI Serving millions going blind India. Join Sight Savers & Supporters Program',\n",
              " 'PRESCRIPTION',\n",
              " 'Date: 07-04-2021']"
            ]
          },
          "metadata": {},
          "execution_count": 45
        }
      ]
    },
    {
      "cell_type": "code",
      "source": [
        "!python -m spacy download xx_ent_wiki_sm"
      ],
      "metadata": {
        "id": "o6je5oRBPa6c"
      },
      "execution_count": null,
      "outputs": []
    },
    {
      "cell_type": "code",
      "source": [
        "import spacy\n",
        "from spacy import displacy \n",
        "nlp = spacy.load('xx_ent_wiki_sm')"
      ],
      "metadata": {
        "id": "1dSPpOPrNIq_"
      },
      "execution_count": null,
      "outputs": []
    },
    {
      "cell_type": "code",
      "source": [
        "for sen in m:\n",
        "  doc = nlp(sen)\n",
        "  displacy.render(doc, style=\"ent\",jupyter=True)"
      ],
      "metadata": {
        "colab": {
          "base_uri": "https://localhost:8080/",
          "height": 1000
        },
        "id": "9GUnO-bcNO9p",
        "outputId": "12e3f9f0-e12f-4923-d2eb-6e30263b9bdd"
      },
      "execution_count": null,
      "outputs": [
        {
          "output_type": "display_data",
          "data": {
            "text/plain": [
              "<IPython.core.display.HTML object>"
            ],
            "text/html": [
              "<span class=\"tex2jax_ignore\"><div class=\"entities\" style=\"line-height: 2.5; direction: ltr\">Dr. \n",
              "<mark class=\"entity\" style=\"background: #ddd; padding: 0.45em 0.6em; margin: 0 0.25em; line-height: 1; border-radius: 0.35em;\">\n",
              "    Raksheeth Nathan R\n",
              "    <span style=\"font-size: 0.8em; font-weight: bold; line-height: 1; border-radius: 0.35em; vertical-align: middle; margin-left: 0.5rem\">PER</span>\n",
              "</mark>\n",
              "</div></span>"
            ]
          },
          "metadata": {}
        },
        {
          "output_type": "stream",
          "name": "stderr",
          "text": [
            "/usr/local/lib/python3.9/dist-packages/spacy/displacy/__init__.py:211: UserWarning: [W006] No entities to visualize found in Doc object. If this is surprising to you, make sure the Doc was processed using a model that supports named entity recognition, and check the `doc.ents` property manually if necessary.\n",
            "  warnings.warn(Warnings.W006)\n"
          ]
        },
        {
          "output_type": "display_data",
          "data": {
            "text/plain": [
              "<IPython.core.display.HTML object>"
            ],
            "text/html": [
              "<span class=\"tex2jax_ignore\"><div class=\"entities\" style=\"line-height: 2.5; direction: ltr\">0</div></span>"
            ]
          },
          "metadata": {}
        },
        {
          "output_type": "display_data",
          "data": {
            "text/plain": [
              "<IPython.core.display.HTML object>"
            ],
            "text/html": [
              "<span class=\"tex2jax_ignore\"><div class=\"entities\" style=\"line-height: 2.5; direction: ltr\">Age: 45 Yrs</div></span>"
            ]
          },
          "metadata": {}
        },
        {
          "output_type": "display_data",
          "data": {
            "text/plain": [
              "<IPython.core.display.HTML object>"
            ],
            "text/html": [
              "<span class=\"tex2jax_ignore\"><div class=\"entities\" style=\"line-height: 2.5; direction: ltr\">\n",
              "<mark class=\"entity\" style=\"background: #ddd; padding: 0.45em 0.6em; margin: 0 0.25em; line-height: 1; border-radius: 0.35em;\">\n",
              "    LVPED\n",
              "    <span style=\"font-size: 0.8em; font-weight: bold; line-height: 1; border-radius: 0.35em; vertical-align: middle; margin-left: 0.5rem\">MISC</span>\n",
              "</mark>\n",
              "</div></span>"
            ]
          },
          "metadata": {}
        },
        {
          "output_type": "display_data",
          "data": {
            "text/plain": [
              "<IPython.core.display.HTML object>"
            ],
            "text/html": [
              "<span class=\"tex2jax_ignore\"><div class=\"entities\" style=\"line-height: 2.5; direction: ltr\">\n",
              "<mark class=\"entity\" style=\"background: #ddd; padding: 0.45em 0.6em; margin: 0 0.25em; line-height: 1; border-radius: 0.35em;\">\n",
              "    Kallam Anji Reddy Campus\n",
              "    <span style=\"font-size: 0.8em; font-weight: bold; line-height: 1; border-radius: 0.35em; vertical-align: middle; margin-left: 0.5rem\">PER</span>\n",
              "</mark>\n",
              ", \n",
              "<mark class=\"entity\" style=\"background: #7aecec; padding: 0.45em 0.6em; margin: 0 0.25em; line-height: 1; border-radius: 0.35em;\">\n",
              "    LV Prasad Marg\n",
              "    <span style=\"font-size: 0.8em; font-weight: bold; line-height: 1; border-radius: 0.35em; vertical-align: middle; margin-left: 0.5rem\">ORG</span>\n",
              "</mark>\n",
              ", \n",
              "<mark class=\"entity\" style=\"background: #ddd; padding: 0.45em 0.6em; margin: 0 0.25em; line-height: 1; border-radius: 0.35em;\">\n",
              "    Road No.2\n",
              "    <span style=\"font-size: 0.8em; font-weight: bold; line-height: 1; border-radius: 0.35em; vertical-align: middle; margin-left: 0.5rem\">MISC</span>\n",
              "</mark>\n",
              ", \n",
              "<mark class=\"entity\" style=\"background: #ff9561; padding: 0.45em 0.6em; margin: 0 0.25em; line-height: 1; border-radius: 0.35em;\">\n",
              "    Banjara Hills\n",
              "    <span style=\"font-size: 0.8em; font-weight: bold; line-height: 1; border-radius: 0.35em; vertical-align: middle; margin-left: 0.5rem\">LOC</span>\n",
              "</mark>\n",
              ",</div></span>"
            ]
          },
          "metadata": {}
        },
        {
          "output_type": "display_data",
          "data": {
            "text/plain": [
              "<IPython.core.display.HTML object>"
            ],
            "text/html": [
              "<span class=\"tex2jax_ignore\"><div class=\"entities\" style=\"line-height: 2.5; direction: ltr\">Medicine Name.</div></span>"
            ]
          },
          "metadata": {}
        },
        {
          "output_type": "display_data",
          "data": {
            "text/plain": [
              "<IPython.core.display.HTML object>"
            ],
            "text/html": [
              "<span class=\"tex2jax_ignore\"><div class=\"entities\" style=\"line-height: 2.5; direction: ltr\">Topical</div></span>"
            ]
          },
          "metadata": {}
        },
        {
          "output_type": "display_data",
          "data": {
            "text/plain": [
              "<IPython.core.display.HTML object>"
            ],
            "text/html": [
              "<span class=\"tex2jax_ignore\"><div class=\"entities\" style=\"line-height: 2.5; direction: ltr\">\n",
              "<mark class=\"entity\" style=\"background: #ddd; padding: 0.45em 0.6em; margin: 0 0.25em; line-height: 1; border-radius: 0.35em;\">\n",
              "    COLD COMPRESSES\n",
              "    <span style=\"font-size: 0.8em; font-weight: bold; line-height: 1; border-radius: 0.35em; vertical-align: middle; margin-left: 0.5rem\">MISC</span>\n",
              "</mark>\n",
              "</div></span>"
            ]
          },
          "metadata": {}
        },
        {
          "output_type": "display_data",
          "data": {
            "text/plain": [
              "<IPython.core.display.HTML object>"
            ],
            "text/html": [
              "<span class=\"tex2jax_ignore\"><div class=\"entities\" style=\"line-height: 2.5; direction: ltr\">\n",
              "<mark class=\"entity\" style=\"background: #ddd; padding: 0.45em 0.6em; margin: 0 0.25em; line-height: 1; border-radius: 0.35em;\">\n",
              "    LACRIGEL EYE OINTMENT\n",
              "    <span style=\"font-size: 0.8em; font-weight: bold; line-height: 1; border-radius: 0.35em; vertical-align: middle; margin-left: 0.5rem\">MISC</span>\n",
              "</mark>\n",
              "</div></span>"
            ]
          },
          "metadata": {}
        },
        {
          "output_type": "display_data",
          "data": {
            "text/plain": [
              "<IPython.core.display.HTML object>"
            ],
            "text/html": [
              "<span class=\"tex2jax_ignore\"><div class=\"entities\" style=\"line-height: 2.5; direction: ltr\">\n",
              "<mark class=\"entity\" style=\"background: #7aecec; padding: 0.45em 0.6em; margin: 0 0.25em; line-height: 1; border-radius: 0.35em;\">\n",
              "    Time\n",
              "    <span style=\"font-size: 0.8em; font-weight: bold; line-height: 1; border-radius: 0.35em; vertical-align: middle; margin-left: 0.5rem\">ORG</span>\n",
              "</mark>\n",
              ": 04:04 PM</div></span>"
            ]
          },
          "metadata": {}
        },
        {
          "output_type": "display_data",
          "data": {
            "text/plain": [
              "<IPython.core.display.HTML object>"
            ],
            "text/html": [
              "<span class=\"tex2jax_ignore\"><div class=\"entities\" style=\"line-height: 2.5; direction: ltr\">- Physical Consultation - 6 Month(s)</div></span>"
            ]
          },
          "metadata": {}
        },
        {
          "output_type": "display_data",
          "data": {
            "text/plain": [
              "<IPython.core.display.HTML object>"
            ],
            "text/html": [
              "<span class=\"tex2jax_ignore\"><div class=\"entities\" style=\"line-height: 2.5; direction: ltr\">\n",
              "<mark class=\"entity\" style=\"background: #ddd; padding: 0.45em 0.6em; margin: 0 0.25em; line-height: 1; border-radius: 0.35em;\">\n",
              "    WEEK SUNDAY\n",
              "    <span style=\"font-size: 0.8em; font-weight: bold; line-height: 1; border-radius: 0.35em; vertical-align: middle; margin-left: 0.5rem\">MISC</span>\n",
              "</mark>\n",
              "</div></span>"
            ]
          },
          "metadata": {}
        },
        {
          "output_type": "display_data",
          "data": {
            "text/plain": [
              "<IPython.core.display.HTML object>"
            ],
            "text/html": [
              "<span class=\"tex2jax_ignore\"><div class=\"entities\" style=\"line-height: 2.5; direction: ltr\">\n",
              "<mark class=\"entity\" style=\"background: #ddd; padding: 0.45em 0.6em; margin: 0 0.25em; line-height: 1; border-radius: 0.35em;\">\n",
              "    Oral\n",
              "    <span style=\"font-size: 0.8em; font-weight: bold; line-height: 1; border-radius: 0.35em; vertical-align: middle; margin-left: 0.5rem\">PER</span>\n",
              "</mark>\n",
              "</div></span>"
            ]
          },
          "metadata": {}
        },
        {
          "output_type": "display_data",
          "data": {
            "text/plain": [
              "<IPython.core.display.HTML object>"
            ],
            "text/html": [
              "<span class=\"tex2jax_ignore\"><div class=\"entities\" style=\"line-height: 2.5; direction: ltr\">Name: \n",
              "<mark class=\"entity\" style=\"background: #7aecec; padding: 0.45em 0.6em; margin: 0 0.25em; line-height: 1; border-radius: 0.35em;\">\n",
              "    MRS\n",
              "    <span style=\"font-size: 0.8em; font-weight: bold; line-height: 1; border-radius: 0.35em; vertical-align: middle; margin-left: 0.5rem\">ORG</span>\n",
              "</mark>\n",
              ". \n",
              "<mark class=\"entity\" style=\"background: #7aecec; padding: 0.45em 0.6em; margin: 0 0.25em; line-height: 1; border-radius: 0.35em;\">\n",
              "    SEEMALA\n",
              "    <span style=\"font-size: 0.8em; font-weight: bold; line-height: 1; border-radius: 0.35em; vertical-align: middle; margin-left: 0.5rem\">ORG</span>\n",
              "</mark>\n",
              " VIJAYA LAXMI</div></span>"
            ]
          },
          "metadata": {}
        },
        {
          "output_type": "display_data",
          "data": {
            "text/plain": [
              "<IPython.core.display.HTML object>"
            ],
            "text/html": [
              "<span class=\"tex2jax_ignore\"><div class=\"entities\" style=\"line-height: 2.5; direction: ltr\">1 drop 1</div></span>"
            ]
          },
          "metadata": {}
        },
        {
          "output_type": "display_data",
          "data": {
            "text/plain": [
              "<IPython.core.display.HTML object>"
            ],
            "text/html": [
              "<span class=\"tex2jax_ignore\"><div class=\"entities\" style=\"line-height: 2.5; direction: ltr\">Four</div></span>"
            ]
          },
          "metadata": {}
        },
        {
          "output_type": "display_data",
          "data": {
            "text/plain": [
              "<IPython.core.display.HTML object>"
            ],
            "text/html": [
              "<span class=\"tex2jax_ignore\"><div class=\"entities\" style=\"line-height: 2.5; direction: ltr\">\n",
              "<mark class=\"entity\" style=\"background: #ddd; padding: 0.45em 0.6em; margin: 0 0.25em; line-height: 1; border-radius: 0.35em;\">\n",
              "    NANCY PF\n",
              "    <span style=\"font-size: 0.8em; font-weight: bold; line-height: 1; border-radius: 0.35em; vertical-align: middle; margin-left: 0.5rem\">MISC</span>\n",
              "</mark>\n",
              "</div></span>"
            ]
          },
          "metadata": {}
        },
        {
          "output_type": "display_data",
          "data": {
            "text/plain": [
              "<IPython.core.display.HTML object>"
            ],
            "text/html": [
              "<span class=\"tex2jax_ignore\"><div class=\"entities\" style=\"line-height: 2.5; direction: ltr\">Dr.\n",
              "<mark class=\"entity\" style=\"background: #ddd; padding: 0.45em 0.6em; margin: 0 0.25em; line-height: 1; border-radius: 0.35em;\">\n",
              "    Muralidhara Ramappa\n",
              "    <span style=\"font-size: 0.8em; font-weight: bold; line-height: 1; border-radius: 0.35em; vertical-align: middle; margin-left: 0.5rem\">PER</span>\n",
              "</mark>\n",
              "</div></span>"
            ]
          },
          "metadata": {}
        },
        {
          "output_type": "display_data",
          "data": {
            "text/plain": [
              "<IPython.core.display.HTML object>"
            ],
            "text/html": [
              "<span class=\"tex2jax_ignore\"><div class=\"entities\" style=\"line-height: 2.5; direction: ltr\">\n",
              "<mark class=\"entity\" style=\"background: #7aecec; padding: 0.45em 0.6em; margin: 0 0.25em; line-height: 1; border-radius: 0.35em;\">\n",
              "    FRIDAYS\n",
              "    <span style=\"font-size: 0.8em; font-weight: bold; line-height: 1; border-radius: 0.35em; vertical-align: middle; margin-left: 0.5rem\">ORG</span>\n",
              "</mark>\n",
              "</div></span>"
            ]
          },
          "metadata": {}
        },
        {
          "output_type": "display_data",
          "data": {
            "text/plain": [
              "<IPython.core.display.HTML object>"
            ],
            "text/html": [
              "<span class=\"tex2jax_ignore\"><div class=\"entities\" style=\"line-height: 2.5; direction: ltr\">\n",
              "<mark class=\"entity\" style=\"background: #7aecec; padding: 0.45em 0.6em; margin: 0 0.25em; line-height: 1; border-radius: 0.35em;\">\n",
              "    OPHTHALMOLOGIST\n",
              "    <span style=\"font-size: 0.8em; font-weight: bold; line-height: 1; border-radius: 0.35em; vertical-align: middle; margin-left: 0.5rem\">ORG</span>\n",
              "</mark>\n",
              ": \n",
              "<mark class=\"entity\" style=\"background: #7aecec; padding: 0.45em 0.6em; margin: 0 0.25em; line-height: 1; border-radius: 0.35em;\">\n",
              "    DR\n",
              "    <span style=\"font-size: 0.8em; font-weight: bold; line-height: 1; border-radius: 0.35em; vertical-align: middle; margin-left: 0.5rem\">ORG</span>\n",
              "</mark>\n",
              ". \n",
              "<mark class=\"entity\" style=\"background: #ddd; padding: 0.45em 0.6em; margin: 0 0.25em; line-height: 1; border-radius: 0.35em;\">\n",
              "    RAKSHEETH NATHAN R\n",
              "    <span style=\"font-size: 0.8em; font-weight: bold; line-height: 1; border-radius: 0.35em; vertical-align: middle; margin-left: 0.5rem\">MISC</span>\n",
              "</mark>\n",
              "</div></span>"
            ]
          },
          "metadata": {}
        },
        {
          "output_type": "display_data",
          "data": {
            "text/plain": [
              "<IPython.core.display.HTML object>"
            ],
            "text/html": [
              "<span class=\"tex2jax_ignore\"><div class=\"entities\" style=\"line-height: 2.5; direction: ltr\">\n",
              "<mark class=\"entity\" style=\"background: #7aecec; padding: 0.45em 0.6em; margin: 0 0.25em; line-height: 1; border-radius: 0.35em;\">\n",
              "    EYE DROPS\n",
              "    <span style=\"font-size: 0.8em; font-weight: bold; line-height: 1; border-radius: 0.35em; vertical-align: middle; margin-left: 0.5rem\">ORG</span>\n",
              "</mark>\n",
              "</div></span>"
            ]
          },
          "metadata": {}
        },
        {
          "output_type": "display_data",
          "data": {
            "text/plain": [
              "<IPython.core.display.HTML object>"
            ],
            "text/html": [
              "<span class=\"tex2jax_ignore\"><div class=\"entities\" style=\"line-height: 2.5; direction: ltr\">\n",
              "<mark class=\"entity\" style=\"background: #ddd; padding: 0.45em 0.6em; margin: 0 0.25em; line-height: 1; border-radius: 0.35em;\">\n",
              "    TAB.HCQ 200MG OD\n",
              "    <span style=\"font-size: 0.8em; font-weight: bold; line-height: 1; border-radius: 0.35em; vertical-align: middle; margin-left: 0.5rem\">MISC</span>\n",
              "</mark>\n",
              "</div></span>"
            ]
          },
          "metadata": {}
        },
        {
          "output_type": "display_data",
          "data": {
            "text/plain": [
              "<IPython.core.display.HTML object>"
            ],
            "text/html": [
              "<span class=\"tex2jax_ignore\"><div class=\"entities\" style=\"line-height: 2.5; direction: ltr\">\n",
              "<mark class=\"entity\" style=\"background: #7aecec; padding: 0.45em 0.6em; margin: 0 0.25em; line-height: 1; border-radius: 0.35em;\">\n",
              "    FOLITRAX\n",
              "    <span style=\"font-size: 0.8em; font-weight: bold; line-height: 1; border-radius: 0.35em; vertical-align: middle; margin-left: 0.5rem\">ORG</span>\n",
              "</mark>\n",
              " 15 \n",
              "<mark class=\"entity\" style=\"background: #ddd; padding: 0.45em 0.6em; margin: 0 0.25em; line-height: 1; border-radius: 0.35em;\">\n",
              "    MG WEEKLY\n",
              "    <span style=\"font-size: 0.8em; font-weight: bold; line-height: 1; border-radius: 0.35em; vertical-align: middle; margin-left: 0.5rem\">MISC</span>\n",
              "</mark>\n",
              "</div></span>"
            ]
          },
          "metadata": {}
        },
        {
          "output_type": "display_data",
          "data": {
            "text/plain": [
              "<IPython.core.display.HTML object>"
            ],
            "text/html": [
              "<span class=\"tex2jax_ignore\"><div class=\"entities\" style=\"line-height: 2.5; direction: ltr\">\n",
              "<mark class=\"entity\" style=\"background: #ddd; padding: 0.45em 0.6em; margin: 0 0.25em; line-height: 1; border-radius: 0.35em;\">\n",
              "    Review Clinic\n",
              "    <span style=\"font-size: 0.8em; font-weight: bold; line-height: 1; border-radius: 0.35em; vertical-align: middle; margin-left: 0.5rem\">MISC</span>\n",
              "</mark>\n",
              "</div></span>"
            ]
          },
          "metadata": {}
        },
        {
          "output_type": "display_data",
          "data": {
            "text/plain": [
              "<IPython.core.display.HTML object>"
            ],
            "text/html": [
              "<span class=\"tex2jax_ignore\"><div class=\"entities\" style=\"line-height: 2.5; direction: ltr\">\n",
              "<mark class=\"entity\" style=\"background: #ddd; padding: 0.45em 0.6em; margin: 0 0.25em; line-height: 1; border-radius: 0.35em;\">\n",
              "    Roshan Saheb\n",
              "    <span style=\"font-size: 0.8em; font-weight: bold; line-height: 1; border-radius: 0.35em; vertical-align: middle; margin-left: 0.5rem\">PER</span>\n",
              "</mark>\n",
              "</div></span>"
            ]
          },
          "metadata": {}
        },
        {
          "output_type": "display_data",
          "data": {
            "text/plain": [
              "<IPython.core.display.HTML object>"
            ],
            "text/html": [
              "<span class=\"tex2jax_ignore\"><div class=\"entities\" style=\"line-height: 2.5; direction: ltr\">Gender: Female</div></span>"
            ]
          },
          "metadata": {}
        },
        {
          "output_type": "display_data",
          "data": {
            "text/plain": [
              "<IPython.core.display.HTML object>"
            ],
            "text/html": [
              "<span class=\"tex2jax_ignore\"><div class=\"entities\" style=\"line-height: 2.5; direction: ltr\">\n",
              "<mark class=\"entity\" style=\"background: #7aecec; padding: 0.45em 0.6em; margin: 0 0.25em; line-height: 1; border-radius: 0.35em;\">\n",
              "    TSMC\n",
              "    <span style=\"font-size: 0.8em; font-weight: bold; line-height: 1; border-radius: 0.35em; vertical-align: middle; margin-left: 0.5rem\">ORG</span>\n",
              "</mark>\n",
              "/FMR/15073</div></span>"
            ]
          },
          "metadata": {}
        },
        {
          "output_type": "display_data",
          "data": {
            "text/plain": [
              "<IPython.core.display.HTML object>"
            ],
            "text/html": [
              "<span class=\"tex2jax_ignore\"><div class=\"entities\" style=\"line-height: 2.5; direction: ltr\">\n",
              "<mark class=\"entity\" style=\"background: #ddd; padding: 0.45em 0.6em; margin: 0 0.25em; line-height: 1; border-radius: 0.35em;\">\n",
              "    1 Drop\n",
              "    <span style=\"font-size: 0.8em; font-weight: bold; line-height: 1; border-radius: 0.35em; vertical-align: middle; margin-left: 0.5rem\">MISC</span>\n",
              "</mark>\n",
              "</div></span>"
            ]
          },
          "metadata": {}
        },
        {
          "output_type": "display_data",
          "data": {
            "text/plain": [
              "<IPython.core.display.HTML object>"
            ],
            "text/html": [
              "<span class=\"tex2jax_ignore\"><div class=\"entities\" style=\"line-height: 2.5; direction: ltr\">07-04-2021 04:04 PM</div></span>"
            ]
          },
          "metadata": {}
        },
        {
          "output_type": "display_data",
          "data": {
            "text/plain": [
              "<IPython.core.display.HTML object>"
            ],
            "text/html": [
              "<span class=\"tex2jax_ignore\"><div class=\"entities\" style=\"line-height: 2.5; direction: ltr\">times</div></span>"
            ]
          },
          "metadata": {}
        },
        {
          "output_type": "display_data",
          "data": {
            "text/plain": [
              "<IPython.core.display.HTML object>"
            ],
            "text/html": [
              "<span class=\"tex2jax_ignore\"><div class=\"entities\" style=\"line-height: 2.5; direction: ltr\">Frontdesk Name:</div></span>"
            ]
          },
          "metadata": {}
        },
        {
          "output_type": "display_data",
          "data": {
            "text/plain": [
              "<IPython.core.display.HTML object>"
            ],
            "text/html": [
              "<span class=\"tex2jax_ignore\"><div class=\"entities\" style=\"line-height: 2.5; direction: ltr\">\n",
              "<mark class=\"entity\" style=\"background: #ddd; padding: 0.45em 0.6em; margin: 0 0.25em; line-height: 1; border-radius: 0.35em;\">\n",
              "    MRNO\n",
              "    <span style=\"font-size: 0.8em; font-weight: bold; line-height: 1; border-radius: 0.35em; vertical-align: middle; margin-left: 0.5rem\">MISC</span>\n",
              "</mark>\n",
              ". #: \n",
              "<mark class=\"entity\" style=\"background: #ddd; padding: 0.45em 0.6em; margin: 0 0.25em; line-height: 1; border-radius: 0.35em;\">\n",
              "    P461250\n",
              "    <span style=\"font-size: 0.8em; font-weight: bold; line-height: 1; border-radius: 0.35em; vertical-align: middle; margin-left: 0.5rem\">MISC</span>\n",
              "</mark>\n",
              "</div></span>"
            ]
          },
          "metadata": {}
        },
        {
          "output_type": "display_data",
          "data": {
            "text/plain": [
              "<IPython.core.display.HTML object>"
            ],
            "text/html": [
              "<span class=\"tex2jax_ignore\"><div class=\"entities\" style=\"line-height: 2.5; direction: ltr\">\n",
              "<mark class=\"entity\" style=\"background: #7aecec; padding: 0.45em 0.6em; margin: 0 0.25em; line-height: 1; border-radius: 0.35em;\">\n",
              "    Ophthalmologist\n",
              "    <span style=\"font-size: 0.8em; font-weight: bold; line-height: 1; border-radius: 0.35em; vertical-align: middle; margin-left: 0.5rem\">ORG</span>\n",
              "</mark>\n",
              "</div></span>"
            ]
          },
          "metadata": {}
        },
        {
          "output_type": "display_data",
          "data": {
            "text/plain": [
              "<IPython.core.display.HTML object>"
            ],
            "text/html": [
              "<span class=\"tex2jax_ignore\"><div class=\"entities\" style=\"line-height: 2.5; direction: ltr\"></div></span>"
            ]
          },
          "metadata": {}
        },
        {
          "output_type": "display_data",
          "data": {
            "text/plain": [
              "<IPython.core.display.HTML object>"
            ],
            "text/html": [
              "<span class=\"tex2jax_ignore\"><div class=\"entities\" style=\"line-height: 2.5; direction: ltr\">Every</div></span>"
            ]
          },
          "metadata": {}
        },
        {
          "output_type": "display_data",
          "data": {
            "text/plain": [
              "<IPython.core.display.HTML object>"
            ],
            "text/html": [
              "<span class=\"tex2jax_ignore\"><div class=\"entities\" style=\"line-height: 2.5; direction: ltr\">http://172.16.154.18/bext/emr/modules/casesheet/speciali</div></span>"
            ]
          },
          "metadata": {}
        },
        {
          "output_type": "display_data",
          "data": {
            "text/plain": [
              "<IPython.core.display.HTML object>"
            ],
            "text/html": [
              "<span class=\"tex2jax_ignore\"><div class=\"entities\" style=\"line-height: 2.5; direction: ltr\">\n",
              "<mark class=\"entity\" style=\"background: #ff9561; padding: 0.45em 0.6em; margin: 0 0.25em; line-height: 1; border-radius: 0.35em;\">\n",
              "    Hyderabad\n",
              "    <span style=\"font-size: 0.8em; font-weight: bold; line-height: 1; border-radius: 0.35em; vertical-align: middle; margin-left: 0.5rem\">LOC</span>\n",
              "</mark>\n",
              ", \n",
              "<mark class=\"entity\" style=\"background: #ff9561; padding: 0.45em 0.6em; margin: 0 0.25em; line-height: 1; border-radius: 0.35em;\">\n",
              "    Telangana - 500034\n",
              "    <span style=\"font-size: 0.8em; font-weight: bold; line-height: 1; border-radius: 0.35em; vertical-align: middle; margin-left: 0.5rem\">LOC</span>\n",
              "</mark>\n",
              ", \n",
              "<mark class=\"entity\" style=\"background: #ff9561; padding: 0.45em 0.6em; margin: 0 0.25em; line-height: 1; border-radius: 0.35em;\">\n",
              "    Phone\n",
              "    <span style=\"font-size: 0.8em; font-weight: bold; line-height: 1; border-radius: 0.35em; vertical-align: middle; margin-left: 0.5rem\">LOC</span>\n",
              "</mark>\n",
              ": +91-040-6810 2020, http://www.lvpei.org.</div></span>"
            ]
          },
          "metadata": {}
        },
        {
          "output_type": "display_data",
          "data": {
            "text/plain": [
              "<IPython.core.display.HTML object>"
            ],
            "text/html": [
              "<span class=\"tex2jax_ignore\"><div class=\"entities\" style=\"line-height: 2.5; direction: ltr\">\n",
              "<mark class=\"entity\" style=\"background: #7aecec; padding: 0.45em 0.6em; margin: 0 0.25em; line-height: 1; border-radius: 0.35em;\">\n",
              "    Special Instructions\n",
              "    <span style=\"font-size: 0.8em; font-weight: bold; line-height: 1; border-radius: 0.35em; vertical-align: middle; margin-left: 0.5rem\">ORG</span>\n",
              "</mark>\n",
              "</div></span>"
            ]
          },
          "metadata": {}
        },
        {
          "output_type": "display_data",
          "data": {
            "text/plain": [
              "<IPython.core.display.HTML object>"
            ],
            "text/html": [
              "<span class=\"tex2jax_ignore\"><div class=\"entities\" style=\"line-height: 2.5; direction: ltr\">\n",
              "<mark class=\"entity\" style=\"background: #ddd; padding: 0.45em 0.6em; margin: 0 0.25em; line-height: 1; border-radius: 0.35em;\">\n",
              "    Till Next\n",
              "    <span style=\"font-size: 0.8em; font-weight: bold; line-height: 1; border-radius: 0.35em; vertical-align: middle; margin-left: 0.5rem\">MISC</span>\n",
              "</mark>\n",
              "</div></span>"
            ]
          },
          "metadata": {}
        },
        {
          "output_type": "display_data",
          "data": {
            "text/plain": [
              "<IPython.core.display.HTML object>"
            ],
            "text/html": [
              "<span class=\"tex2jax_ignore\"><div class=\"entities\" style=\"line-height: 2.5; direction: ltr\">(\n",
              "<mark class=\"entity\" style=\"background: #7aecec; padding: 0.45em 0.6em; margin: 0 0.25em; line-height: 1; border-radius: 0.35em;\">\n",
              "    OPHTHALMOLOGIST\n",
              "    <span style=\"font-size: 0.8em; font-weight: bold; line-height: 1; border-radius: 0.35em; vertical-align: middle; margin-left: 0.5rem\">ORG</span>\n",
              "</mark>\n",
              ")</div></span>"
            ]
          },
          "metadata": {}
        },
        {
          "output_type": "display_data",
          "data": {
            "text/plain": [
              "<IPython.core.display.HTML object>"
            ],
            "text/html": [
              "<span class=\"tex2jax_ignore\"><div class=\"entities\" style=\"line-height: 2.5; direction: ltr\">\n",
              "<mark class=\"entity\" style=\"background: #ddd; padding: 0.45em 0.6em; margin: 0 0.25em; line-height: 1; border-radius: 0.35em;\">\n",
              "    Dosage Qty\n",
              "    <span style=\"font-size: 0.8em; font-weight: bold; line-height: 1; border-radius: 0.35em; vertical-align: middle; margin-left: 0.5rem\">MISC</span>\n",
              "</mark>\n",
              ". Timings Duration</div></span>"
            ]
          },
          "metadata": {}
        },
        {
          "output_type": "display_data",
          "data": {
            "text/plain": [
              "<IPython.core.display.HTML object>"
            ],
            "text/html": [
              "<span class=\"tex2jax_ignore\"><div class=\"entities\" style=\"line-height: 2.5; direction: ltr\">one</div></span>"
            ]
          },
          "metadata": {}
        },
        {
          "output_type": "display_data",
          "data": {
            "text/plain": [
              "<IPython.core.display.HTML object>"
            ],
            "text/html": [
              "<span class=\"tex2jax_ignore\"><div class=\"entities\" style=\"line-height: 2.5; direction: ltr\">L \n",
              "<mark class=\"entity\" style=\"background: #ddd; padding: 0.45em 0.6em; margin: 0 0.25em; line-height: 1; border-radius: 0.35em;\">\n",
              "    V PRASAD EYE INSTITUTE\n",
              "    <span style=\"font-size: 0.8em; font-weight: bold; line-height: 1; border-radius: 0.35em; vertical-align: middle; margin-left: 0.5rem\">MISC</span>\n",
              "</mark>\n",
              " (\n",
              "<mark class=\"entity\" style=\"background: #7aecec; padding: 0.45em 0.6em; margin: 0 0.25em; line-height: 1; border-radius: 0.35em;\">\n",
              "    KAR CAMPUS\n",
              "    <span style=\"font-size: 0.8em; font-weight: bold; line-height: 1; border-radius: 0.35em; vertical-align: middle; margin-left: 0.5rem\">ORG</span>\n",
              "</mark>\n",
              ")</div></span>"
            ]
          },
          "metadata": {}
        },
        {
          "output_type": "display_data",
          "data": {
            "text/plain": [
              "<IPython.core.display.HTML object>"
            ],
            "text/html": [
              "<span class=\"tex2jax_ignore\"><div class=\"entities\" style=\"line-height: 2.5; direction: ltr\">\n",
              "<mark class=\"entity\" style=\"background: #ddd; padding: 0.45em 0.6em; margin: 0 0.25em; line-height: 1; border-radius: 0.35em;\">\n",
              "    TEARS NATURALE FORTE\n",
              "    <span style=\"font-size: 0.8em; font-weight: bold; line-height: 1; border-radius: 0.35em; vertical-align: middle; margin-left: 0.5rem\">MISC</span>\n",
              "</mark>\n",
              "</div></span>"
            ]
          },
          "metadata": {}
        },
        {
          "output_type": "display_data",
          "data": {
            "text/plain": [
              "<IPython.core.display.HTML object>"
            ],
            "text/html": [
              "<span class=\"tex2jax_ignore\"><div class=\"entities\" style=\"line-height: 2.5; direction: ltr\">\n",
              "<mark class=\"entity\" style=\"background: #7aecec; padding: 0.45em 0.6em; margin: 0 0.25em; line-height: 1; border-radius: 0.35em;\">\n",
              "    Raksheeth\n",
              "    <span style=\"font-size: 0.8em; font-weight: bold; line-height: 1; border-radius: 0.35em; vertical-align: middle; margin-left: 0.5rem\">ORG</span>\n",
              "</mark>\n",
              ".</div></span>"
            ]
          },
          "metadata": {}
        },
        {
          "output_type": "display_data",
          "data": {
            "text/plain": [
              "<IPython.core.display.HTML object>"
            ],
            "text/html": [
              "<span class=\"tex2jax_ignore\"><div class=\"entities\" style=\"line-height: 2.5; direction: ltr\">\n",
              "<mark class=\"entity\" style=\"background: #ddd; padding: 0.45em 0.6em; margin: 0 0.25em; line-height: 1; border-radius: 0.35em;\">\n",
              "    hour\n",
              "    <span style=\"font-size: 0.8em; font-weight: bold; line-height: 1; border-radius: 0.35em; vertical-align: middle; margin-left: 0.5rem\">PER</span>\n",
              "</mark>\n",
              "</div></span>"
            ]
          },
          "metadata": {}
        },
        {
          "output_type": "display_data",
          "data": {
            "text/plain": [
              "<IPython.core.display.HTML object>"
            ],
            "text/html": [
              "<span class=\"tex2jax_ignore\"><div class=\"entities\" style=\"line-height: 2.5; direction: ltr\">\n",
              "<mark class=\"entity\" style=\"background: #ddd; padding: 0.45em 0.6em; margin: 0 0.25em; line-height: 1; border-radius: 0.35em;\">\n",
              "    TAB.FOLIC ACID 5\n",
              "    <span style=\"font-size: 0.8em; font-weight: bold; line-height: 1; border-radius: 0.35em; vertical-align: middle; margin-left: 0.5rem\">MISC</span>\n",
              "</mark>\n",
              " \n",
              "<mark class=\"entity\" style=\"background: #ddd; padding: 0.45em 0.6em; margin: 0 0.25em; line-height: 1; border-radius: 0.35em;\">\n",
              "    MG MON-\n",
              "    <span style=\"font-size: 0.8em; font-weight: bold; line-height: 1; border-radius: 0.35em; vertical-align: middle; margin-left: 0.5rem\">MISC</span>\n",
              "</mark>\n",
              "</div></span>"
            ]
          },
          "metadata": {}
        },
        {
          "output_type": "display_data",
          "data": {
            "text/plain": [
              "<IPython.core.display.HTML object>"
            ],
            "text/html": [
              "<span class=\"tex2jax_ignore\"><div class=\"entities\" style=\"line-height: 2.5; direction: ltr\">\n",
              "<mark class=\"entity\" style=\"background: #ddd; padding: 0.45em 0.6em; margin: 0 0.25em; line-height: 1; border-radius: 0.35em;\">\n",
              "    Eyes\n",
              "    <span style=\"font-size: 0.8em; font-weight: bold; line-height: 1; border-radius: 0.35em; vertical-align: middle; margin-left: 0.5rem\">MISC</span>\n",
              "</mark>\n",
              "</div></span>"
            ]
          },
          "metadata": {}
        },
        {
          "output_type": "display_data",
          "data": {
            "text/plain": [
              "<IPython.core.display.HTML object>"
            ],
            "text/html": [
              "<span class=\"tex2jax_ignore\"><div class=\"entities\" style=\"line-height: 2.5; direction: ltr\">Join \n",
              "<mark class=\"entity\" style=\"background: #7aecec; padding: 0.45em 0.6em; margin: 0 0.25em; line-height: 1; border-radius: 0.35em;\">\n",
              "    LVPEI Serving\n",
              "    <span style=\"font-size: 0.8em; font-weight: bold; line-height: 1; border-radius: 0.35em; vertical-align: middle; margin-left: 0.5rem\">ORG</span>\n",
              "</mark>\n",
              " millions going blind \n",
              "<mark class=\"entity\" style=\"background: #ff9561; padding: 0.45em 0.6em; margin: 0 0.25em; line-height: 1; border-radius: 0.35em;\">\n",
              "    India\n",
              "    <span style=\"font-size: 0.8em; font-weight: bold; line-height: 1; border-radius: 0.35em; vertical-align: middle; margin-left: 0.5rem\">LOC</span>\n",
              "</mark>\n",
              ". Join \n",
              "<mark class=\"entity\" style=\"background: #7aecec; padding: 0.45em 0.6em; margin: 0 0.25em; line-height: 1; border-radius: 0.35em;\">\n",
              "    Sight Savers &amp; Supporters Program\n",
              "    <span style=\"font-size: 0.8em; font-weight: bold; line-height: 1; border-radius: 0.35em; vertical-align: middle; margin-left: 0.5rem\">ORG</span>\n",
              "</mark>\n",
              "</div></span>"
            ]
          },
          "metadata": {}
        },
        {
          "output_type": "display_data",
          "data": {
            "text/plain": [
              "<IPython.core.display.HTML object>"
            ],
            "text/html": [
              "<span class=\"tex2jax_ignore\"><div class=\"entities\" style=\"line-height: 2.5; direction: ltr\">\n",
              "<mark class=\"entity\" style=\"background: #7aecec; padding: 0.45em 0.6em; margin: 0 0.25em; line-height: 1; border-radius: 0.35em;\">\n",
              "    PRESCRIPTION\n",
              "    <span style=\"font-size: 0.8em; font-weight: bold; line-height: 1; border-radius: 0.35em; vertical-align: middle; margin-left: 0.5rem\">ORG</span>\n",
              "</mark>\n",
              "</div></span>"
            ]
          },
          "metadata": {}
        },
        {
          "output_type": "display_data",
          "data": {
            "text/plain": [
              "<IPython.core.display.HTML object>"
            ],
            "text/html": [
              "<span class=\"tex2jax_ignore\"><div class=\"entities\" style=\"line-height: 2.5; direction: ltr\">Date: 07-04-2021</div></span>"
            ]
          },
          "metadata": {}
        }
      ]
    }
  ],
  "metadata": {
    "colab": {
      "provenance": []
    },
    "kernelspec": {
      "display_name": "Python 3",
      "name": "python3"
    },
    "language_info": {
      "name": "python"
    }
  },
  "nbformat": 4,
  "nbformat_minor": 0
}