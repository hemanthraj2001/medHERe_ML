{
  "nbformat": 4,
  "nbformat_minor": 0,
  "metadata": {
    "colab": {
      "provenance": []
    },
    "kernelspec": {
      "name": "python3",
      "display_name": "Python 3"
    },
    "language_info": {
      "name": "python"
    }
  },
  "cells": [
    {
      "cell_type": "markdown",
      "source": [
        "TEARS NATURALE FORTE\n",
        "EYE DROPS\n",
        "\n",
        "LACRIGEL EYE OINTMENT\n",
        "\n",
        "FOLITRAX 15 MG WEEKLY\n",
        "ONCE A WEEK ON SUNDAY\n",
        "\n",
        "TAS.FOLIC ACID 5 MG MON.\n",
        "FRIDAYS\n",
        "\n",
        "TAB.HCQ 200MG OD\n",
        "\n",
        "COLD COMPRESSES\n",
        "\n",
        "NANCY PF"
      ],
      "metadata": {
        "id": "U9g4hmnkmCPZ"
      }
    },
    {
      "cell_type": "code",
      "source": [
        "import spacy"
      ],
      "metadata": {
        "id": "lXFBENgcVehE"
      },
      "execution_count": null,
      "outputs": []
    },
    {
      "cell_type": "code",
      "source": [
        "!python -m spacy download en_core_web_lg"
      ],
      "metadata": {
        "colab": {
          "base_uri": "https://localhost:8080/"
        },
        "id": "QwNh3JjStYjM",
        "outputId": "8109db30-2084-4401-cfa8-e0e467b092ab"
      },
      "execution_count": null,
      "outputs": [
        {
          "output_type": "stream",
          "name": "stdout",
          "text": [
            "/usr/local/lib/python3.9/dist-packages/torch/cuda/__init__.py:497: UserWarning: Can't initialize NVML\n",
            "  warnings.warn(\"Can't initialize NVML\")\n",
            "2023-03-26 16:54:18.313314: W tensorflow/compiler/xla/stream_executor/platform/default/dso_loader.cc:64] Could not load dynamic library 'libnvinfer.so.7'; dlerror: libnvinfer.so.7: cannot open shared object file: No such file or directory; LD_LIBRARY_PATH: /usr/local/nvidia/lib:/usr/local/nvidia/lib64\n",
            "2023-03-26 16:54:18.313501: W tensorflow/compiler/xla/stream_executor/platform/default/dso_loader.cc:64] Could not load dynamic library 'libnvinfer_plugin.so.7'; dlerror: libnvinfer_plugin.so.7: cannot open shared object file: No such file or directory; LD_LIBRARY_PATH: /usr/local/nvidia/lib:/usr/local/nvidia/lib64\n",
            "2023-03-26 16:54:18.313525: W tensorflow/compiler/tf2tensorrt/utils/py_utils.cc:38] TF-TRT Warning: Cannot dlopen some TensorRT libraries. If you would like to use Nvidia GPU with TensorRT, please make sure the missing libraries mentioned above are installed properly.\n",
            "2023-03-26 16:54:20.749886: E tensorflow/compiler/xla/stream_executor/cuda/cuda_driver.cc:267] failed call to cuInit: CUDA_ERROR_NO_DEVICE: no CUDA-capable device is detected\n",
            "Looking in indexes: https://pypi.org/simple, https://us-python.pkg.dev/colab-wheels/public/simple/\n",
            "Collecting en-core-web-lg==3.5.0\n",
            "  Downloading https://github.com/explosion/spacy-models/releases/download/en_core_web_lg-3.5.0/en_core_web_lg-3.5.0-py3-none-any.whl (587.7 MB)\n",
            "\u001b[2K     \u001b[90m━━━━━━━━━━━━━━━━━━━━━━━━━━━━━━━━━━━━━━━\u001b[0m \u001b[32m587.7/587.7 MB\u001b[0m \u001b[31m2.2 MB/s\u001b[0m eta \u001b[36m0:00:00\u001b[0m\n",
            "\u001b[?25hRequirement already satisfied: spacy<3.6.0,>=3.5.0 in /usr/local/lib/python3.9/dist-packages (from en-core-web-lg==3.5.0) (3.5.1)\n",
            "Requirement already satisfied: numpy>=1.15.0 in /usr/local/lib/python3.9/dist-packages (from spacy<3.6.0,>=3.5.0->en-core-web-lg==3.5.0) (1.22.4)\n",
            "Requirement already satisfied: requests<3.0.0,>=2.13.0 in /usr/local/lib/python3.9/dist-packages (from spacy<3.6.0,>=3.5.0->en-core-web-lg==3.5.0) (2.27.1)\n",
            "Requirement already satisfied: cymem<2.1.0,>=2.0.2 in /usr/local/lib/python3.9/dist-packages (from spacy<3.6.0,>=3.5.0->en-core-web-lg==3.5.0) (2.0.7)\n",
            "Requirement already satisfied: langcodes<4.0.0,>=3.2.0 in /usr/local/lib/python3.9/dist-packages (from spacy<3.6.0,>=3.5.0->en-core-web-lg==3.5.0) (3.3.0)\n",
            "Requirement already satisfied: pathy>=0.10.0 in /usr/local/lib/python3.9/dist-packages (from spacy<3.6.0,>=3.5.0->en-core-web-lg==3.5.0) (0.10.1)\n",
            "Requirement already satisfied: pydantic!=1.8,!=1.8.1,<1.11.0,>=1.7.4 in /usr/local/lib/python3.9/dist-packages (from spacy<3.6.0,>=3.5.0->en-core-web-lg==3.5.0) (1.10.7)\n",
            "Requirement already satisfied: smart-open<7.0.0,>=5.2.1 in /usr/local/lib/python3.9/dist-packages (from spacy<3.6.0,>=3.5.0->en-core-web-lg==3.5.0) (6.3.0)\n",
            "Requirement already satisfied: thinc<8.2.0,>=8.1.8 in /usr/local/lib/python3.9/dist-packages (from spacy<3.6.0,>=3.5.0->en-core-web-lg==3.5.0) (8.1.9)\n",
            "Requirement already satisfied: srsly<3.0.0,>=2.4.3 in /usr/local/lib/python3.9/dist-packages (from spacy<3.6.0,>=3.5.0->en-core-web-lg==3.5.0) (2.4.6)\n",
            "Requirement already satisfied: preshed<3.1.0,>=3.0.2 in /usr/local/lib/python3.9/dist-packages (from spacy<3.6.0,>=3.5.0->en-core-web-lg==3.5.0) (3.0.8)\n",
            "Requirement already satisfied: typer<0.8.0,>=0.3.0 in /usr/local/lib/python3.9/dist-packages (from spacy<3.6.0,>=3.5.0->en-core-web-lg==3.5.0) (0.7.0)\n",
            "Requirement already satisfied: jinja2 in /usr/local/lib/python3.9/dist-packages (from spacy<3.6.0,>=3.5.0->en-core-web-lg==3.5.0) (3.1.2)\n",
            "Requirement already satisfied: setuptools in /usr/local/lib/python3.9/dist-packages (from spacy<3.6.0,>=3.5.0->en-core-web-lg==3.5.0) (67.6.0)\n",
            "Requirement already satisfied: spacy-loggers<2.0.0,>=1.0.0 in /usr/local/lib/python3.9/dist-packages (from spacy<3.6.0,>=3.5.0->en-core-web-lg==3.5.0) (1.0.4)\n",
            "Requirement already satisfied: spacy-legacy<3.1.0,>=3.0.11 in /usr/local/lib/python3.9/dist-packages (from spacy<3.6.0,>=3.5.0->en-core-web-lg==3.5.0) (3.0.12)\n",
            "Requirement already satisfied: wasabi<1.2.0,>=0.9.1 in /usr/local/lib/python3.9/dist-packages (from spacy<3.6.0,>=3.5.0->en-core-web-lg==3.5.0) (1.1.1)\n",
            "Requirement already satisfied: murmurhash<1.1.0,>=0.28.0 in /usr/local/lib/python3.9/dist-packages (from spacy<3.6.0,>=3.5.0->en-core-web-lg==3.5.0) (1.0.9)\n",
            "Requirement already satisfied: tqdm<5.0.0,>=4.38.0 in /usr/local/lib/python3.9/dist-packages (from spacy<3.6.0,>=3.5.0->en-core-web-lg==3.5.0) (4.65.0)\n",
            "Requirement already satisfied: catalogue<2.1.0,>=2.0.6 in /usr/local/lib/python3.9/dist-packages (from spacy<3.6.0,>=3.5.0->en-core-web-lg==3.5.0) (2.0.8)\n",
            "Requirement already satisfied: packaging>=20.0 in /usr/local/lib/python3.9/dist-packages (from spacy<3.6.0,>=3.5.0->en-core-web-lg==3.5.0) (23.0)\n",
            "Requirement already satisfied: typing-extensions>=4.2.0 in /usr/local/lib/python3.9/dist-packages (from pydantic!=1.8,!=1.8.1,<1.11.0,>=1.7.4->spacy<3.6.0,>=3.5.0->en-core-web-lg==3.5.0) (4.5.0)\n",
            "Requirement already satisfied: certifi>=2017.4.17 in /usr/local/lib/python3.9/dist-packages (from requests<3.0.0,>=2.13.0->spacy<3.6.0,>=3.5.0->en-core-web-lg==3.5.0) (2022.12.7)\n",
            "Requirement already satisfied: idna<4,>=2.5 in /usr/local/lib/python3.9/dist-packages (from requests<3.0.0,>=2.13.0->spacy<3.6.0,>=3.5.0->en-core-web-lg==3.5.0) (3.4)\n",
            "Requirement already satisfied: charset-normalizer~=2.0.0 in /usr/local/lib/python3.9/dist-packages (from requests<3.0.0,>=2.13.0->spacy<3.6.0,>=3.5.0->en-core-web-lg==3.5.0) (2.0.12)\n",
            "Requirement already satisfied: urllib3<1.27,>=1.21.1 in /usr/local/lib/python3.9/dist-packages (from requests<3.0.0,>=2.13.0->spacy<3.6.0,>=3.5.0->en-core-web-lg==3.5.0) (1.26.15)\n",
            "Requirement already satisfied: blis<0.8.0,>=0.7.8 in /usr/local/lib/python3.9/dist-packages (from thinc<8.2.0,>=8.1.8->spacy<3.6.0,>=3.5.0->en-core-web-lg==3.5.0) (0.7.9)\n",
            "Requirement already satisfied: confection<1.0.0,>=0.0.1 in /usr/local/lib/python3.9/dist-packages (from thinc<8.2.0,>=8.1.8->spacy<3.6.0,>=3.5.0->en-core-web-lg==3.5.0) (0.0.4)\n",
            "Requirement already satisfied: click<9.0.0,>=7.1.1 in /usr/local/lib/python3.9/dist-packages (from typer<0.8.0,>=0.3.0->spacy<3.6.0,>=3.5.0->en-core-web-lg==3.5.0) (8.1.3)\n",
            "Requirement already satisfied: MarkupSafe>=2.0 in /usr/local/lib/python3.9/dist-packages (from jinja2->spacy<3.6.0,>=3.5.0->en-core-web-lg==3.5.0) (2.1.2)\n",
            "\u001b[38;5;2m✔ Download and installation successful\u001b[0m\n",
            "You can now load the package via spacy.load('en_core_web_lg')\n"
          ]
        }
      ]
    },
    {
      "cell_type": "code",
      "source": [
        "nlp = spacy.load(\"en_core_web_lg\")\n",
        "nlp"
      ],
      "metadata": {
        "colab": {
          "base_uri": "https://localhost:8080/",
          "height": 182
        },
        "id": "7ffX4cBvtg4a",
        "outputId": "ccb24396-e200-4199-80cb-01e744ee8b29"
      },
      "execution_count": null,
      "outputs": [
        {
          "output_type": "error",
          "ename": "NameError",
          "evalue": "ignored",
          "traceback": [
            "\u001b[0;31m---------------------------------------------------------------------------\u001b[0m",
            "\u001b[0;31mNameError\u001b[0m                                 Traceback (most recent call last)",
            "\u001b[0;32m<ipython-input-1-8763ab1a72bc>\u001b[0m in \u001b[0;36m<cell line: 1>\u001b[0;34m()\u001b[0m\n\u001b[0;32m----> 1\u001b[0;31m \u001b[0mnlp\u001b[0m \u001b[0;34m=\u001b[0m \u001b[0mspacy\u001b[0m\u001b[0;34m.\u001b[0m\u001b[0mload\u001b[0m\u001b[0;34m(\u001b[0m\u001b[0;34m\"xx_ent_wiki_sm\"\u001b[0m\u001b[0;34m)\u001b[0m\u001b[0;34m\u001b[0m\u001b[0;34m\u001b[0m\u001b[0m\n\u001b[0m\u001b[1;32m      2\u001b[0m \u001b[0mnlp\u001b[0m\u001b[0;34m\u001b[0m\u001b[0;34m\u001b[0m\u001b[0m\n",
            "\u001b[0;31mNameError\u001b[0m: name 'spacy' is not defined"
          ]
        }
      ]
    },
    {
      "cell_type": "code",
      "source": [
        "doc = nlp(\"Narendra modi is the prime minister of india\")\n",
        "doc.ents"
      ],
      "metadata": {
        "colab": {
          "base_uri": "https://localhost:8080/"
        },
        "id": "1pokD5bqtoJS",
        "outputId": "ecaef3cb-af82-4b60-85c4-ec8a1d986519"
      },
      "execution_count": null,
      "outputs": [
        {
          "output_type": "execute_result",
          "data": {
            "text/plain": [
              "(Narendra, india)"
            ]
          },
          "metadata": {},
          "execution_count": 41
        }
      ]
    },
    {
      "cell_type": "code",
      "source": [
        "doc.ents[0]"
      ],
      "metadata": {
        "colab": {
          "base_uri": "https://localhost:8080/"
        },
        "id": "NFLpXRIHu_JZ",
        "outputId": "4e079754-dd55-4d02-a760-45d9bb3a5513"
      },
      "execution_count": null,
      "outputs": [
        {
          "output_type": "execute_result",
          "data": {
            "text/plain": [
              "Narendra"
            ]
          },
          "metadata": {},
          "execution_count": 42
        }
      ]
    },
    {
      "cell_type": "code",
      "source": [
        "\n",
        "print(type(doc.ents[0]))"
      ],
      "metadata": {
        "colab": {
          "base_uri": "https://localhost:8080/"
        },
        "id": "6LTaVXZOuGdQ",
        "outputId": "64c3f853-2b53-4acb-c368-1f616e42fc70"
      },
      "execution_count": null,
      "outputs": [
        {
          "output_type": "stream",
          "name": "stdout",
          "text": [
            "<class 'spacy.tokens.span.Span'>\n"
          ]
        }
      ]
    },
    {
      "cell_type": "code",
      "source": [
        "from spacy import displacy\n",
        "displacy.render(doc,style=\"ent\",jupyter=True)"
      ],
      "metadata": {
        "colab": {
          "base_uri": "https://localhost:8080/",
          "height": 52
        },
        "id": "GqPYvS0FuNIW",
        "outputId": "15b8ad43-2b8c-4f6c-d952-fba3b5af1889"
      },
      "execution_count": null,
      "outputs": [
        {
          "output_type": "display_data",
          "data": {
            "text/plain": [
              "<IPython.core.display.HTML object>"
            ],
            "text/html": [
              "<span class=\"tex2jax_ignore\"><div class=\"entities\" style=\"line-height: 2.5; direction: ltr\">\n",
              "<mark class=\"entity\" style=\"background: #aa9cfc; padding: 0.45em 0.6em; margin: 0 0.25em; line-height: 1; border-radius: 0.35em;\">\n",
              "    Narendra\n",
              "    <span style=\"font-size: 0.8em; font-weight: bold; line-height: 1; border-radius: 0.35em; vertical-align: middle; margin-left: 0.5rem\">PERSON</span>\n",
              "</mark>\n",
              " modi is the prime minister of \n",
              "<mark class=\"entity\" style=\"background: #feca74; padding: 0.45em 0.6em; margin: 0 0.25em; line-height: 1; border-radius: 0.35em;\">\n",
              "    india\n",
              "    <span style=\"font-size: 0.8em; font-weight: bold; line-height: 1; border-radius: 0.35em; vertical-align: middle; margin-left: 0.5rem\">GPE</span>\n",
              "</mark>\n",
              "</div></span>"
            ]
          },
          "metadata": {}
        }
      ]
    },
    {
      "cell_type": "code",
      "source": [
        "import json\n",
        "with open('/content/Corona2.json','r') as f:\n",
        "  data = json.load(f)"
      ],
      "metadata": {
        "id": "W1eDIEfDxFl-"
      },
      "execution_count": null,
      "outputs": []
    },
    {
      "cell_type": "code",
      "source": [
        "data['examples'][0]"
      ],
      "metadata": {
        "id": "pGzBx82HxXjy",
        "colab": {
          "base_uri": "https://localhost:8080/"
        },
        "outputId": "f6d02f59-2959-410c-fd44-9ca00e6ad4c9"
      },
      "execution_count": null,
      "outputs": [
        {
          "output_type": "execute_result",
          "data": {
            "text/plain": [
              "{'id': '18c2f619-f102-452f-ab81-d26f7e283ffe',\n",
              " 'content': \"While bismuth compounds (Pepto-Bismol) decreased the number of bowel movements in those with travelers' diarrhea, they do not decrease the length of illness.[91] Anti-motility agents like loperamide are also effective at reducing the number of stools but not the duration of disease.[8] These agents should be used only if bloody diarrhea is not present.[92]\\n\\nDiosmectite, a natural aluminomagnesium silicate clay, is effective in alleviating symptoms of acute diarrhea in children,[93] and also has some effects in chronic functional diarrhea, radiation-induced diarrhea, and chemotherapy-induced diarrhea.[45] Another absorbent agent used for the treatment of mild diarrhea is kaopectate.\\n\\nRacecadotril an antisecretory medication may be used to treat diarrhea in children and adults.[86] It has better tolerability than loperamide, as it causes less constipation and flatulence.[94]\",\n",
              " 'metadata': {},\n",
              " 'annotations': [{'id': '0825a1bf-6a6e-4fa2-be77-8d104701eaed',\n",
              "   'tag_id': 'c06bd022-6ded-44a5-8d90-f17685bb85a1',\n",
              "   'end': 371,\n",
              "   'start': 360,\n",
              "   'example_id': '18c2f619-f102-452f-ab81-d26f7e283ffe',\n",
              "   'tag_name': 'Medicine',\n",
              "   'value': 'Diosmectite',\n",
              "   'correct': None,\n",
              "   'human_annotations': [{'timestamp': '2020-03-21T00:24:32.098000Z',\n",
              "     'annotator_id': 1,\n",
              "     'tagged_token_id': '0825a1bf-6a6e-4fa2-be77-8d104701eaed',\n",
              "     'name': 'Ashpat123',\n",
              "     'reason': 'exploration'}],\n",
              "   'model_annotations': []},\n",
              "  {'id': '145f62b1-bbf5-42f1-8ad5-9c7e08337bf0',\n",
              "   'tag_id': 'c06bd022-6ded-44a5-8d90-f17685bb85a1',\n",
              "   'end': 408,\n",
              "   'start': 383,\n",
              "   'example_id': '18c2f619-f102-452f-ab81-d26f7e283ffe',\n",
              "   'tag_name': 'Medicine',\n",
              "   'value': 'aluminomagnesium silicate',\n",
              "   'correct': None,\n",
              "   'human_annotations': [{'timestamp': '2020-03-21T00:24:43.692000Z',\n",
              "     'annotator_id': 1,\n",
              "     'tagged_token_id': '145f62b1-bbf5-42f1-8ad5-9c7e08337bf0',\n",
              "     'name': 'Ashpat123',\n",
              "     'reason': 'exploration'}],\n",
              "   'model_annotations': []},\n",
              "  {'id': '243efeb2-723f-4be4-933c-fbbf7e0f9903',\n",
              "   'tag_id': '03eb3e50-d4d8-4261-a60b-fa5aee5deb4a',\n",
              "   'end': 112,\n",
              "   'start': 104,\n",
              "   'example_id': '18c2f619-f102-452f-ab81-d26f7e283ffe',\n",
              "   'tag_name': 'MedicalCondition',\n",
              "   'value': 'diarrhea',\n",
              "   'correct': None,\n",
              "   'human_annotations': [{'timestamp': '2020-03-21T00:24:09.423000Z',\n",
              "     'annotator_id': 1,\n",
              "     'tagged_token_id': '243efeb2-723f-4be4-933c-fbbf7e0f9903',\n",
              "     'name': 'Ashpat123',\n",
              "     'reason': 'exploration'}],\n",
              "   'model_annotations': []},\n",
              "  {'id': '281f49d3-879a-4409-b09e-4cfae019af16',\n",
              "   'tag_id': 'c06bd022-6ded-44a5-8d90-f17685bb85a1',\n",
              "   'end': 689,\n",
              "   'start': 679,\n",
              "   'example_id': '18c2f619-f102-452f-ab81-d26f7e283ffe',\n",
              "   'tag_name': 'Medicine',\n",
              "   'value': 'kaopectate',\n",
              "   'correct': None,\n",
              "   'human_annotations': [{'timestamp': '2020-03-21T00:25:38.366000Z',\n",
              "     'annotator_id': 1,\n",
              "     'tagged_token_id': '281f49d3-879a-4409-b09e-4cfae019af16',\n",
              "     'name': 'Ashpat123',\n",
              "     'reason': 'exploration'}],\n",
              "   'model_annotations': []},\n",
              "  {'id': '32fdf9e7-63f7-442a-8e25-f08ea4ad94d5',\n",
              "   'tag_id': 'c06bd022-6ded-44a5-8d90-f17685bb85a1',\n",
              "   'end': 23,\n",
              "   'start': 6,\n",
              "   'example_id': '18c2f619-f102-452f-ab81-d26f7e283ffe',\n",
              "   'tag_name': 'Medicine',\n",
              "   'value': 'bismuth compounds',\n",
              "   'correct': None,\n",
              "   'human_annotations': [{'timestamp': '2020-03-21T00:23:46.721000Z',\n",
              "     'annotator_id': 1,\n",
              "     'tagged_token_id': '32fdf9e7-63f7-442a-8e25-f08ea4ad94d5',\n",
              "     'name': 'Ashpat123',\n",
              "     'reason': 'exploration'}],\n",
              "   'model_annotations': []},\n",
              "  {'id': '392094d2-febf-4074-a2ca-4c0082f4e5b8',\n",
              "   'tag_id': 'c06bd022-6ded-44a5-8d90-f17685bb85a1',\n",
              "   'end': 37,\n",
              "   'start': 25,\n",
              "   'example_id': '18c2f619-f102-452f-ab81-d26f7e283ffe',\n",
              "   'tag_name': 'Medicine',\n",
              "   'value': 'Pepto-Bismol',\n",
              "   'correct': None,\n",
              "   'human_annotations': [{'timestamp': '2020-03-21T00:23:58.861000Z',\n",
              "     'annotator_id': 1,\n",
              "     'tagged_token_id': '392094d2-febf-4074-a2ca-4c0082f4e5b8',\n",
              "     'name': 'Ashpat123',\n",
              "     'reason': 'exploration'}],\n",
              "   'model_annotations': []},\n",
              "  {'id': '450b8c30-cf2e-4774-96d9-58b4160bea38',\n",
              "   'tag_id': '03eb3e50-d4d8-4261-a60b-fa5aee5deb4a',\n",
              "   'end': 470,\n",
              "   'start': 461,\n",
              "   'example_id': '18c2f619-f102-452f-ab81-d26f7e283ffe',\n",
              "   'tag_name': 'MedicalCondition',\n",
              "   'value': 'diarrhea ',\n",
              "   'correct': None,\n",
              "   'human_annotations': [],\n",
              "   'model_annotations': []},\n",
              "  {'id': '6b73f683-7130-4e16-bcc2-e3cc8cf89f4d',\n",
              "   'tag_id': 'c06bd022-6ded-44a5-8d90-f17685bb85a1',\n",
              "   'end': 589,\n",
              "   'start': 577,\n",
              "   'example_id': '18c2f619-f102-452f-ab81-d26f7e283ffe',\n",
              "   'tag_name': 'Medicine',\n",
              "   'value': 'chemotherapy',\n",
              "   'correct': None,\n",
              "   'human_annotations': [{'timestamp': '2020-03-21T00:25:24.179000Z',\n",
              "     'annotator_id': 1,\n",
              "     'tagged_token_id': '6b73f683-7130-4e16-bcc2-e3cc8cf89f4d',\n",
              "     'name': 'Ashpat123',\n",
              "     'reason': 'exploration'}],\n",
              "   'model_annotations': []},\n",
              "  {'id': '74574b7f-d535-48e1-8651-2708adcfe453',\n",
              "   'tag_id': '03eb3e50-d4d8-4261-a60b-fa5aee5deb4a',\n",
              "   'end': 865,\n",
              "   'start': 853,\n",
              "   'example_id': '18c2f619-f102-452f-ab81-d26f7e283ffe',\n",
              "   'tag_name': 'MedicalCondition',\n",
              "   'value': 'constipation',\n",
              "   'correct': None,\n",
              "   'human_annotations': [{'timestamp': '2020-03-21T00:26:31.676000Z',\n",
              "     'annotator_id': 1,\n",
              "     'tagged_token_id': '74574b7f-d535-48e1-8651-2708adcfe453',\n",
              "     'name': 'Ashpat123',\n",
              "     'reason': 'exploration'}],\n",
              "   'model_annotations': []},\n",
              "  {'id': '7572ab8e-ae99-400c-b4ab-ed46fbc9f97e',\n",
              "   'tag_id': 'c06bd022-6ded-44a5-8d90-f17685bb85a1',\n",
              "   'end': 198,\n",
              "   'start': 188,\n",
              "   'example_id': '18c2f619-f102-452f-ab81-d26f7e283ffe',\n",
              "   'tag_name': 'Medicine',\n",
              "   'value': 'loperamide',\n",
              "   'correct': None,\n",
              "   'human_annotations': [{'timestamp': '2020-03-21T00:24:17.680000Z',\n",
              "     'annotator_id': 1,\n",
              "     'tagged_token_id': '7572ab8e-ae99-400c-b4ab-ed46fbc9f97e',\n",
              "     'name': 'Ashpat123',\n",
              "     'reason': 'exploration'}],\n",
              "   'model_annotations': []},\n",
              "  {'id': '800e6c6c-0bfb-4819-a25a-34f759753457',\n",
              "   'tag_id': '03eb3e50-d4d8-4261-a60b-fa5aee5deb4a',\n",
              "   'end': 762,\n",
              "   'start': 754,\n",
              "   'example_id': '18c2f619-f102-452f-ab81-d26f7e283ffe',\n",
              "   'tag_name': 'MedicalCondition',\n",
              "   'value': 'diarrhea',\n",
              "   'correct': None,\n",
              "   'human_annotations': [{'timestamp': '2020-03-21T00:26:07.368000Z',\n",
              "     'annotator_id': 1,\n",
              "     'tagged_token_id': '800e6c6c-0bfb-4819-a25a-34f759753457',\n",
              "     'name': 'Ashpat123',\n",
              "     'reason': 'exploration'}],\n",
              "   'model_annotations': []},\n",
              "  {'id': '8214556a-7584-4d9b-86cd-5e09137ad904',\n",
              "   'tag_id': '03eb3e50-d4d8-4261-a60b-fa5aee5deb4a',\n",
              "   'end': 880,\n",
              "   'start': 870,\n",
              "   'example_id': '18c2f619-f102-452f-ab81-d26f7e283ffe',\n",
              "   'tag_name': 'MedicalCondition',\n",
              "   'value': 'flatulence',\n",
              "   'correct': None,\n",
              "   'human_annotations': [{'timestamp': '2020-03-21T00:26:41.322000Z',\n",
              "     'annotator_id': 1,\n",
              "     'tagged_token_id': '8214556a-7584-4d9b-86cd-5e09137ad904',\n",
              "     'name': 'Ashpat123',\n",
              "     'reason': 'exploration'}],\n",
              "   'model_annotations': []},\n",
              "  {'id': '98968e14-6756-4174-9d3d-7abd58b3aa34',\n",
              "   'tag_id': 'c06bd022-6ded-44a5-8d90-f17685bb85a1',\n",
              "   'end': 833,\n",
              "   'start': 823,\n",
              "   'example_id': '18c2f619-f102-452f-ab81-d26f7e283ffe',\n",
              "   'tag_name': 'Medicine',\n",
              "   'value': 'loperamide',\n",
              "   'correct': None,\n",
              "   'human_annotations': [{'timestamp': '2020-03-21T00:26:12.759000Z',\n",
              "     'annotator_id': 1,\n",
              "     'tagged_token_id': '98968e14-6756-4174-9d3d-7abd58b3aa34',\n",
              "     'name': 'Ashpat123',\n",
              "     'reason': 'exploration'}],\n",
              "   'model_annotations': []},\n",
              "  {'id': 'a0a03c7b-cfad-41ee-9f5c-f8a802475994',\n",
              "   'tag_id': '03eb3e50-d4d8-4261-a60b-fa5aee5deb4a',\n",
              "   'end': 853,\n",
              "   'start': 852,\n",
              "   'example_id': '18c2f619-f102-452f-ab81-d26f7e283ffe',\n",
              "   'tag_name': 'MedicalCondition',\n",
              "   'value': ' ',\n",
              "   'correct': None,\n",
              "   'human_annotations': [],\n",
              "   'model_annotations': []},\n",
              "  {'id': 'bfbddfd4-38aa-43a7-9366-24c95829ac8c',\n",
              "   'tag_id': '03eb3e50-d4d8-4261-a60b-fa5aee5deb4a',\n",
              "   'end': 469,\n",
              "   'start': 461,\n",
              "   'example_id': '18c2f619-f102-452f-ab81-d26f7e283ffe',\n",
              "   'tag_name': 'MedicalCondition',\n",
              "   'value': 'diarrhea',\n",
              "   'correct': None,\n",
              "   'human_annotations': [{'timestamp': '2020-03-21T00:25:06.921000Z',\n",
              "     'annotator_id': 1,\n",
              "     'tagged_token_id': 'bfbddfd4-38aa-43a7-9366-24c95829ac8c',\n",
              "     'name': 'Ashpat123',\n",
              "     'reason': 'exploration'}],\n",
              "   'model_annotations': []},\n",
              "  {'id': 'd7d68c18-0d8e-4547-a2fa-81fdcaf3080e',\n",
              "   'tag_id': '03eb3e50-d4d8-4261-a60b-fa5aee5deb4a',\n",
              "   'end': 543,\n",
              "   'start': 535,\n",
              "   'example_id': '18c2f619-f102-452f-ab81-d26f7e283ffe',\n",
              "   'tag_name': 'MedicalCondition',\n",
              "   'value': 'diarrhea',\n",
              "   'correct': None,\n",
              "   'human_annotations': [{'timestamp': '2020-03-21T00:25:12.203000Z',\n",
              "     'annotator_id': 1,\n",
              "     'tagged_token_id': 'd7d68c18-0d8e-4547-a2fa-81fdcaf3080e',\n",
              "     'name': 'Ashpat123',\n",
              "     'reason': 'exploration'}],\n",
              "   'model_annotations': []},\n",
              "  {'id': 'ee956220-42a4-4a91-b9f0-75019c4f5dd9',\n",
              "   'tag_id': 'c06bd022-6ded-44a5-8d90-f17685bb85a1',\n",
              "   'end': 704,\n",
              "   'start': 692,\n",
              "   'example_id': '18c2f619-f102-452f-ab81-d26f7e283ffe',\n",
              "   'tag_name': 'Medicine',\n",
              "   'value': 'Racecadotril',\n",
              "   'correct': None,\n",
              "   'human_annotations': [{'timestamp': '2020-03-21T00:25:56.503000Z',\n",
              "     'annotator_id': 1,\n",
              "     'tagged_token_id': 'ee956220-42a4-4a91-b9f0-75019c4f5dd9',\n",
              "     'name': 'Ashpat123',\n",
              "     'reason': 'exploration'}],\n",
              "   'model_annotations': []},\n",
              "  {'id': 'f04a6b7e-8904-405c-9301-e4543238b7a5',\n",
              "   'tag_id': '03eb3e50-d4d8-4261-a60b-fa5aee5deb4a',\n",
              "   'end': 571,\n",
              "   'start': 563,\n",
              "   'example_id': '18c2f619-f102-452f-ab81-d26f7e283ffe',\n",
              "   'tag_name': 'MedicalCondition',\n",
              "   'value': 'diarrhea',\n",
              "   'correct': None,\n",
              "   'human_annotations': [{'timestamp': '2020-03-21T00:25:18.043000Z',\n",
              "     'annotator_id': 1,\n",
              "     'tagged_token_id': 'f04a6b7e-8904-405c-9301-e4543238b7a5',\n",
              "     'name': 'Ashpat123',\n",
              "     'reason': 'exploration'}],\n",
              "   'model_annotations': []}],\n",
              " 'classifications': []}"
            ]
          },
          "metadata": {},
          "execution_count": 46
        }
      ]
    },
    {
      "cell_type": "code",
      "source": [
        "data['examples'][0].keys()"
      ],
      "metadata": {
        "colab": {
          "base_uri": "https://localhost:8080/"
        },
        "id": "7pYEwoJKxjYr",
        "outputId": "a915b4ee-5796-4c71-e806-e9bd29de0d8c"
      },
      "execution_count": null,
      "outputs": [
        {
          "output_type": "execute_result",
          "data": {
            "text/plain": [
              "dict_keys(['id', 'content', 'metadata', 'annotations', 'classifications'])"
            ]
          },
          "metadata": {},
          "execution_count": 47
        }
      ]
    },
    {
      "cell_type": "code",
      "source": [
        "data['examples'][0]['content']"
      ],
      "metadata": {
        "colab": {
          "base_uri": "https://localhost:8080/",
          "height": 140
        },
        "id": "OeJq7cIXyQMR",
        "outputId": "9899fc25-d16b-43f5-fedc-b82fc7705e86"
      },
      "execution_count": null,
      "outputs": [
        {
          "output_type": "execute_result",
          "data": {
            "text/plain": [
              "\"While bismuth compounds (Pepto-Bismol) decreased the number of bowel movements in those with travelers' diarrhea, they do not decrease the length of illness.[91] Anti-motility agents like loperamide are also effective at reducing the number of stools but not the duration of disease.[8] These agents should be used only if bloody diarrhea is not present.[92]\\n\\nDiosmectite, a natural aluminomagnesium silicate clay, is effective in alleviating symptoms of acute diarrhea in children,[93] and also has some effects in chronic functional diarrhea, radiation-induced diarrhea, and chemotherapy-induced diarrhea.[45] Another absorbent agent used for the treatment of mild diarrhea is kaopectate.\\n\\nRacecadotril an antisecretory medication may be used to treat diarrhea in children and adults.[86] It has better tolerability than loperamide, as it causes less constipation and flatulence.[94]\""
            ],
            "application/vnd.google.colaboratory.intrinsic+json": {
              "type": "string"
            }
          },
          "metadata": {},
          "execution_count": 48
        }
      ]
    },
    {
      "cell_type": "code",
      "source": [
        "training_data = []\n",
        "for example in data['examples']:\n",
        "  temp_dict = {}\n",
        "  temp_dict['text'] = example['content']\n",
        "  temp_dict['entities'] = []\n",
        "  for annotation in example['annotations']:\n",
        "    start = annotation['start']\n",
        "    end = annotation['end']\n",
        "    label = annotation['tag_name'].upper()\n",
        "    temp_dict['entities'].append((start,end,label))\n",
        "  training_data.append(temp_dict)\n",
        "\n",
        "print(training_data[0])\n",
        "print(len(training_data))"
      ],
      "metadata": {
        "colab": {
          "base_uri": "https://localhost:8080/"
        },
        "id": "lym51Uf9xtzN",
        "outputId": "a11444ac-fc7f-41bf-8140-3dd8a9ebb628"
      },
      "execution_count": null,
      "outputs": [
        {
          "output_type": "stream",
          "name": "stdout",
          "text": [
            "{'text': \"While bismuth compounds (Pepto-Bismol) decreased the number of bowel movements in those with travelers' diarrhea, they do not decrease the length of illness.[91] Anti-motility agents like loperamide are also effective at reducing the number of stools but not the duration of disease.[8] These agents should be used only if bloody diarrhea is not present.[92]\\n\\nDiosmectite, a natural aluminomagnesium silicate clay, is effective in alleviating symptoms of acute diarrhea in children,[93] and also has some effects in chronic functional diarrhea, radiation-induced diarrhea, and chemotherapy-induced diarrhea.[45] Another absorbent agent used for the treatment of mild diarrhea is kaopectate.\\n\\nRacecadotril an antisecretory medication may be used to treat diarrhea in children and adults.[86] It has better tolerability than loperamide, as it causes less constipation and flatulence.[94]\", 'entities': [(360, 371, 'MEDICINE'), (383, 408, 'MEDICINE'), (104, 112, 'MEDICALCONDITION'), (679, 689, 'MEDICINE'), (6, 23, 'MEDICINE'), (25, 37, 'MEDICINE'), (461, 470, 'MEDICALCONDITION'), (577, 589, 'MEDICINE'), (853, 865, 'MEDICALCONDITION'), (188, 198, 'MEDICINE'), (754, 762, 'MEDICALCONDITION'), (870, 880, 'MEDICALCONDITION'), (823, 833, 'MEDICINE'), (852, 853, 'MEDICALCONDITION'), (461, 469, 'MEDICALCONDITION'), (535, 543, 'MEDICALCONDITION'), (692, 704, 'MEDICINE'), (563, 571, 'MEDICALCONDITION')]}\n",
            "31\n"
          ]
        }
      ]
    },
    {
      "cell_type": "code",
      "source": [
        "training_data[0]['text']"
      ],
      "metadata": {
        "colab": {
          "base_uri": "https://localhost:8080/",
          "height": 140
        },
        "id": "jdT4gQrNzDO7",
        "outputId": "f9124d37-cf27-4393-9f9c-1d3cb1527489"
      },
      "execution_count": null,
      "outputs": [
        {
          "output_type": "execute_result",
          "data": {
            "text/plain": [
              "\"While bismuth compounds (Pepto-Bismol) decreased the number of bowel movements in those with travelers' diarrhea, they do not decrease the length of illness.[91] Anti-motility agents like loperamide are also effective at reducing the number of stools but not the duration of disease.[8] These agents should be used only if bloody diarrhea is not present.[92]\\n\\nDiosmectite, a natural aluminomagnesium silicate clay, is effective in alleviating symptoms of acute diarrhea in children,[93] and also has some effects in chronic functional diarrhea, radiation-induced diarrhea, and chemotherapy-induced diarrhea.[45] Another absorbent agent used for the treatment of mild diarrhea is kaopectate.\\n\\nRacecadotril an antisecretory medication may be used to treat diarrhea in children and adults.[86] It has better tolerability than loperamide, as it causes less constipation and flatulence.[94]\""
            ],
            "application/vnd.google.colaboratory.intrinsic+json": {
              "type": "string"
            }
          },
          "metadata": {},
          "execution_count": 50
        }
      ]
    },
    {
      "cell_type": "code",
      "source": [
        "training_data[0]['text'][360:371]"
      ],
      "metadata": {
        "colab": {
          "base_uri": "https://localhost:8080/",
          "height": 36
        },
        "id": "D1Nu6HRmzIjI",
        "outputId": "4c081ea4-dacb-4885-9492-21a9bb0402ed"
      },
      "execution_count": null,
      "outputs": [
        {
          "output_type": "execute_result",
          "data": {
            "text/plain": [
              "'Diosmectite'"
            ],
            "application/vnd.google.colaboratory.intrinsic+json": {
              "type": "string"
            }
          },
          "metadata": {},
          "execution_count": 51
        }
      ]
    },
    {
      "cell_type": "code",
      "source": [
        "training_data[0]['entities']"
      ],
      "metadata": {
        "colab": {
          "base_uri": "https://localhost:8080/"
        },
        "id": "e00vMfL1zIZU",
        "outputId": "e2b8ab40-c2c5-4c5e-c06f-7f9bb2913bd0"
      },
      "execution_count": null,
      "outputs": [
        {
          "output_type": "execute_result",
          "data": {
            "text/plain": [
              "[(360, 371, 'MEDICINE'),\n",
              " (383, 408, 'MEDICINE'),\n",
              " (104, 112, 'MEDICALCONDITION'),\n",
              " (679, 689, 'MEDICINE'),\n",
              " (6, 23, 'MEDICINE'),\n",
              " (25, 37, 'MEDICINE'),\n",
              " (461, 470, 'MEDICALCONDITION'),\n",
              " (577, 589, 'MEDICINE'),\n",
              " (853, 865, 'MEDICALCONDITION'),\n",
              " (188, 198, 'MEDICINE'),\n",
              " (754, 762, 'MEDICALCONDITION'),\n",
              " (870, 880, 'MEDICALCONDITION'),\n",
              " (823, 833, 'MEDICINE'),\n",
              " (852, 853, 'MEDICALCONDITION'),\n",
              " (461, 469, 'MEDICALCONDITION'),\n",
              " (535, 543, 'MEDICALCONDITION'),\n",
              " (692, 704, 'MEDICINE'),\n",
              " (563, 571, 'MEDICALCONDITION')]"
            ]
          },
          "metadata": {},
          "execution_count": 52
        }
      ]
    },
    {
      "cell_type": "code",
      "source": [
        "training_data[0].keys()"
      ],
      "metadata": {
        "colab": {
          "base_uri": "https://localhost:8080/"
        },
        "id": "ofb-uWKSzqxP",
        "outputId": "ced81cd6-f00e-4341-9b37-7eecb3c2f0fb"
      },
      "execution_count": null,
      "outputs": [
        {
          "output_type": "execute_result",
          "data": {
            "text/plain": [
              "dict_keys(['text', 'entities'])"
            ]
          },
          "metadata": {},
          "execution_count": 53
        }
      ]
    },
    {
      "cell_type": "code",
      "source": [
        "import pandas as pd\n",
        "df = pd.read_csv(\"/content/A_Z_medicines_dataset_of_India.csv\")\n",
        "l=df[['name','short_composition1']]\n",
        "#k=l['short_composition1'][0].index(' ')\n",
        "#l['short_composition1'][0][:k]\n",
        "(l['name'][0])"
      ],
      "metadata": {
        "colab": {
          "base_uri": "https://localhost:8080/",
          "height": 36
        },
        "id": "E3aiz5SVXQHu",
        "outputId": "a4446e42-0a83-4ef7-ffb3-17970c59b7d6"
      },
      "execution_count": null,
      "outputs": [
        {
          "output_type": "execute_result",
          "data": {
            "text/plain": [
              "'Augmentin 625 Duo Tablet'"
            ],
            "application/vnd.google.colaboratory.intrinsic+json": {
              "type": "string"
            }
          },
          "metadata": {},
          "execution_count": 54
        }
      ]
    },
    {
      "cell_type": "code",
      "source": [
        "for i in range(101):\n",
        "   print(l['name'][i])"
      ],
      "metadata": {
        "colab": {
          "base_uri": "https://localhost:8080/"
        },
        "id": "Wsoc0qQs0ujc",
        "outputId": "84e8989a-9122-499b-df79-6bb0251d817d"
      },
      "execution_count": null,
      "outputs": [
        {
          "output_type": "stream",
          "name": "stdout",
          "text": [
            "Augmentin 625 Duo Tablet\n",
            "Azithral 500 Tablet\n",
            "Ascoril LS Syrup\n",
            "Allegra 120mg Tablet\n",
            "Avil 25 Tablet\n",
            "Allegra-M Tablet\n",
            "Amoxyclav 625 Tablet\n",
            "Azee 500 Tablet\n",
            "Atarax 25mg Tablet\n",
            "Ascoril D Plus Syrup Sugar Free\n",
            "Aciloc 150 Tablet\n",
            "Alex Syrup\n",
            "Anovate Cream\n",
            "Augmentin Duo Oral Suspension\n",
            "Ambrodil-S Syrup\n",
            "Arkamin Tablet\n",
            "Avomine Tablet\n",
            "Asthakind-DX Syrup Sugar Free\n",
            "Allegra 180mg Tablet\n",
            "Albendazole 400mg Tablet\n",
            "Asthalin Syrup\n",
            "Alprax 0.25 Tablet\n",
            "Altraday Capsule SR\n",
            "Ativan 2mg Tablet\n",
            "Ascoril LS Junior Syrup\n",
            "Asthalin 100mcg Inhaler\n",
            "Almox 500 Capsule\n",
            "Atarax 10mg Tablet\n",
            "Aciloc RD 20 Tablet\n",
            "Aldactone Tablet\n",
            "Allegra Suspension Raspberry & Vanilla\n",
            "Atarax Syrup\n",
            "Amlokind-AT Tablet\n",
            "Axcer  90mg Tablet\n",
            "Ativan 1mg Tablet\n",
            "Alkasol Oral Solution\n",
            "Aldigesic P 100mg/325mg Tablet\n",
            "Alfoo 10mg Tablet PR\n",
            "Alprax 0.5mg Tablet\n",
            "Arachitol 6L Injection\n",
            "Anafortan 25 mg/300 mg Tablet\n",
            "Alex Junior Syrup\n",
            "Azithral 200 Liquid\n",
            "AB Phylline Capsule\n",
            "Althrocin 500 Tablet\n",
            "Augmentin DDS Suspension\n",
            "Azicip 500 Tablet\n",
            "Aldigesic-SP Tablet\n",
            "Amoxycillin 500mg Capsule\n",
            "Asthakind Expectorant Sugar Free\n",
            "Acemiz Plus Tablet\n",
            "Aceclo Plus Tablet\n",
            "Anobliss Cream\n",
            "Alex Cough Lozenges Lemon Ginger\n",
            "Asthalin Respules\n",
            "Avil Injection\n",
            "Azee 200mg Dry Syrup\n",
            "Atorva Tablet\n",
            "Asthakind-LS Expectorant Cola Sugar Free\n",
            "Ascoril LS Drops\n",
            "Azmarda 50mg Tablet\n",
            "Amixide-H Tablet\n",
            "AB-Flo-N Tablet\n",
            "AF Kit Tablet\n",
            "Amlokind 5 Tablet\n",
            "Amlong Tablet\n",
            "Akt 4 Kit\n",
            "Ascoril D Junior Cough Syrup\n",
            "Amitone 10mg Tablet\n",
            "Aulin 100mg Tablet\n",
            "Amikacin Sulphate 500mg Injection\n",
            "Ambrodil-LX Syrup\n",
            "Aquasol A Capsule\n",
            "AB Phylline SR 200 Tablet\n",
            "Azoran Tablet\n",
            "Amaryl 1mg Tablet\n",
            "Aztor 10 Tablet\n",
            "Atorva 40 Tablet\n",
            "Azax 500 Tablet\n",
            "Alex Syrup Sugar Free\n",
            "Anxit 0.5 Tablet\n",
            "Anxit 0.25mg Tablet\n",
            "Acitrom 2 Tablet\n",
            "Angispan - TR 2.5mg Capsule\n",
            "Azeflo Nasal Spray\n",
            "Acemiz -MR Tablet\n",
            "Akurit 4 Tablet\n",
            "Aerocort Inhaler\n",
            "Adaferin Gel\n",
            "Acivir 400 DT Tablet\n",
            "Aptimust Syrup\n",
            "Augmentin 1000 Duo Tablet\n",
            "Ambrodil Syrup\n",
            "Acogut Tablet\n",
            "Atarax Drops\n",
            "Amlip 5 Tablet\n",
            "AntiD 300mcg/ml Injection\n",
            "Alerid Syrup\n",
            "Aldactone 50 Tablet\n",
            "Ampoxin 500 Capsule\n",
            "Azee 250 Tablet\n"
          ]
        }
      ]
    },
    {
      "cell_type": "code",
      "source": [
        "for i in range(101):\n",
        "  temp_dict = {}\n",
        "  temp_dict['text'] = l['name'][i]\n",
        "  temp_dict['entities'] = []\n",
        "  temp_dict['entities'].append((0,len(l['name'][i]),'Medicine_data'))\n",
        "  training_data.append(temp_dict)\n",
        "\n"
      ],
      "metadata": {
        "id": "RucmoTfhXU9R"
      },
      "execution_count": null,
      "outputs": []
    },
    {
      "cell_type": "code",
      "source": [
        "training_data[31]"
      ],
      "metadata": {
        "colab": {
          "base_uri": "https://localhost:8080/"
        },
        "id": "akagL6mJ1viQ",
        "outputId": "5152189d-5f56-4d82-c3f9-d1fda0832fd0"
      },
      "execution_count": null,
      "outputs": [
        {
          "output_type": "execute_result",
          "data": {
            "text/plain": [
              "{'text': 'Augmentin 625 Duo Tablet', 'entities': [(0, 24, 'Medicine_data')]}"
            ]
          },
          "metadata": {},
          "execution_count": 57
        }
      ]
    },
    {
      "cell_type": "code",
      "source": [
        "from spacy.tokens import DocBin\n",
        "from tqdm import tqdm\n",
        "nlp = spacy.blank(\"en\")\n",
        "doc_bin = DocBin()"
      ],
      "metadata": {
        "id": "o9YthyLHLTSH"
      },
      "execution_count": null,
      "outputs": []
    },
    {
      "cell_type": "code",
      "source": [
        "from spacy.util import filter_spans\n",
        "\n",
        "for training_example  in tqdm(training_data): \n",
        "    text = training_example['text']\n",
        "    labels = training_example['entities']\n",
        "    doc = nlp.make_doc(text) \n",
        "    ents = []\n",
        "    for start, end, label in labels:\n",
        "        span = doc.char_span(start, end, label=label, alignment_mode=\"contract\")\n",
        "        if span is None:\n",
        "            print(\"Skipping entity\")\n",
        "        else:\n",
        "            ents.append(span)\n",
        "    filtered_ents = filter_spans(ents)\n",
        "    doc.ents = filtered_ents \n",
        "    doc_bin.add(doc)\n",
        "\n",
        "doc_bin.to_disk(\"train.spacy\")"
      ],
      "metadata": {
        "colab": {
          "base_uri": "https://localhost:8080/"
        },
        "id": "85uxthfoMF6R",
        "outputId": "6de13267-9fde-4620-d7be-43c85df72814"
      },
      "execution_count": null,
      "outputs": [
        {
          "output_type": "stream",
          "name": "stderr",
          "text": [
            "100%|██████████| 132/132 [00:00<00:00, 671.88it/s]"
          ]
        },
        {
          "output_type": "stream",
          "name": "stdout",
          "text": [
            "Skipping entity\n",
            "Skipping entity\n",
            "Skipping entity\n",
            "Skipping entity\n",
            "Skipping entity\n",
            "Skipping entity\n",
            "Skipping entity\n",
            "Skipping entity\n",
            "Skipping entity\n",
            "Skipping entity\n",
            "Skipping entity\n",
            "Skipping entity\n",
            "Skipping entity\n",
            "Skipping entity\n",
            "Skipping entity\n",
            "Skipping entity\n"
          ]
        },
        {
          "output_type": "stream",
          "name": "stderr",
          "text": [
            "\n"
          ]
        }
      ]
    },
    {
      "cell_type": "code",
      "source": [
        "!python -m spacy init fill-config base_config.cfg config.cfg"
      ],
      "metadata": {
        "colab": {
          "base_uri": "https://localhost:8080/"
        },
        "id": "epyoijEgMa9p",
        "outputId": "3633dbf8-a24d-4e94-98f7-65c1156aa418"
      },
      "execution_count": null,
      "outputs": [
        {
          "output_type": "stream",
          "name": "stdout",
          "text": [
            "/usr/local/lib/python3.9/dist-packages/torch/cuda/__init__.py:497: UserWarning: Can't initialize NVML\n",
            "  warnings.warn(\"Can't initialize NVML\")\n",
            "2023-03-26 16:56:27.096843: W tensorflow/compiler/xla/stream_executor/platform/default/dso_loader.cc:64] Could not load dynamic library 'libnvinfer.so.7'; dlerror: libnvinfer.so.7: cannot open shared object file: No such file or directory; LD_LIBRARY_PATH: /usr/local/nvidia/lib:/usr/local/nvidia/lib64\n",
            "2023-03-26 16:56:27.097012: W tensorflow/compiler/xla/stream_executor/platform/default/dso_loader.cc:64] Could not load dynamic library 'libnvinfer_plugin.so.7'; dlerror: libnvinfer_plugin.so.7: cannot open shared object file: No such file or directory; LD_LIBRARY_PATH: /usr/local/nvidia/lib:/usr/local/nvidia/lib64\n",
            "2023-03-26 16:56:27.097039: W tensorflow/compiler/tf2tensorrt/utils/py_utils.cc:38] TF-TRT Warning: Cannot dlopen some TensorRT libraries. If you would like to use Nvidia GPU with TensorRT, please make sure the missing libraries mentioned above are installed properly.\n",
            "2023-03-26 16:56:29.213115: E tensorflow/compiler/xla/stream_executor/cuda/cuda_driver.cc:267] failed call to cuInit: CUDA_ERROR_NO_DEVICE: no CUDA-capable device is detected\n",
            "\u001b[38;5;2m✔ Auto-filled config with all values\u001b[0m\n",
            "\u001b[38;5;2m✔ Saved config\u001b[0m\n",
            "config.cfg\n",
            "You can now add your data and train your pipeline:\n",
            "python -m spacy train config.cfg --paths.train ./train.spacy --paths.dev ./dev.spacy\n"
          ]
        }
      ]
    },
    {
      "cell_type": "code",
      "source": [
        "!python -m spacy train config.cfg --output ./ --paths.train ./train.spacy --paths.dev ./train.spacy "
      ],
      "metadata": {
        "colab": {
          "base_uri": "https://localhost:8080/"
        },
        "id": "xwoa711K5GuG",
        "outputId": "c4245f5d-f82c-4762-a587-a0776ff84afe"
      },
      "execution_count": null,
      "outputs": [
        {
          "output_type": "stream",
          "name": "stdout",
          "text": [
            "/usr/local/lib/python3.9/dist-packages/torch/cuda/__init__.py:497: UserWarning: Can't initialize NVML\n",
            "  warnings.warn(\"Can't initialize NVML\")\n",
            "2023-03-26 16:57:00.538502: W tensorflow/compiler/xla/stream_executor/platform/default/dso_loader.cc:64] Could not load dynamic library 'libnvinfer.so.7'; dlerror: libnvinfer.so.7: cannot open shared object file: No such file or directory; LD_LIBRARY_PATH: /usr/local/nvidia/lib:/usr/local/nvidia/lib64\n",
            "2023-03-26 16:57:00.538668: W tensorflow/compiler/xla/stream_executor/platform/default/dso_loader.cc:64] Could not load dynamic library 'libnvinfer_plugin.so.7'; dlerror: libnvinfer_plugin.so.7: cannot open shared object file: No such file or directory; LD_LIBRARY_PATH: /usr/local/nvidia/lib:/usr/local/nvidia/lib64\n",
            "2023-03-26 16:57:00.538693: W tensorflow/compiler/tf2tensorrt/utils/py_utils.cc:38] TF-TRT Warning: Cannot dlopen some TensorRT libraries. If you would like to use Nvidia GPU with TensorRT, please make sure the missing libraries mentioned above are installed properly.\n",
            "2023-03-26 16:57:03.205077: E tensorflow/compiler/xla/stream_executor/cuda/cuda_driver.cc:267] failed call to cuInit: CUDA_ERROR_NO_DEVICE: no CUDA-capable device is detected\n",
            "\u001b[38;5;4mℹ Saving to output directory: .\u001b[0m\n",
            "\u001b[38;5;4mℹ Using CPU\u001b[0m\n",
            "\u001b[1m\n",
            "=========================== Initializing pipeline ===========================\u001b[0m\n",
            "[2023-03-26 16:57:04,199] [INFO] Set up nlp object from config\n",
            "[2023-03-26 16:57:04,213] [INFO] Pipeline: ['tok2vec', 'ner']\n",
            "[2023-03-26 16:57:04,217] [INFO] Created vocabulary\n",
            "[2023-03-26 16:57:06,727] [INFO] Added vectors: en_core_web_lg\n",
            "[2023-03-26 16:57:09,623] [INFO] Finished initializing nlp object\n",
            "[2023-03-26 16:57:11,801] [INFO] Initialized pipeline components: ['tok2vec', 'ner']\n",
            "\u001b[38;5;2m✔ Initialized pipeline\u001b[0m\n",
            "\u001b[1m\n",
            "============================= Training pipeline =============================\u001b[0m\n",
            "\u001b[38;5;4mℹ Pipeline: ['tok2vec', 'ner']\u001b[0m\n",
            "\u001b[38;5;4mℹ Initial learn rate: 0.001\u001b[0m\n",
            "E    #       LOSS TOK2VEC  LOSS NER  ENTS_F  ENTS_P  ENTS_R  SCORE \n",
            "---  ------  ------------  --------  ------  ------  ------  ------\n",
            "  0       0          0.00    138.56    1.34    1.02    1.97    0.01\n",
            "\u001b[38;5;2m✔ Saved pipeline to output directory\u001b[0m\n",
            "model-last\n"
          ]
        }
      ]
    },
    {
      "cell_type": "code",
      "source": [
        "nlp_ner = spacy.load(\"model-best\")"
      ],
      "metadata": {
        "id": "K0ZtLA-XO4RL"
      },
      "execution_count": null,
      "outputs": []
    },
    {
      "cell_type": "code",
      "source": [
        "doc = nlp_ner(\"Arkamin Tablet Avomine Tablet Asthakind-DX Syrup Sugar Free Allegra 180mg Tablet Albendazole 400mg Tablet Ascoril LS Junior Syrup\")\n",
        "colors = {\"PATHOGEN\": \"#F67DE3\", \"MEDICINE\": \"#7DF6D9\", \"MEDICALCONDITION\":\"#a6e22d\",\"Medicine_data\":\"#FFEBCD\"}\n",
        "options = {\"colors\": colors} \n",
        "\n",
        "spacy.displacy.render(doc, style=\"ent\", options= options, jupyter=True)"
      ],
      "metadata": {
        "id": "DhZNQ5TxO8El",
        "colab": {
          "base_uri": "https://localhost:8080/",
          "height": 52
        },
        "outputId": "ff4feba9-35d8-4a6e-9cc0-42da493f4013"
      },
      "execution_count": null,
      "outputs": [
        {
          "output_type": "display_data",
          "data": {
            "text/plain": [
              "<IPython.core.display.HTML object>"
            ],
            "text/html": [
              "<span class=\"tex2jax_ignore\"><div class=\"entities\" style=\"line-height: 2.5; direction: ltr\">\n",
              "<mark class=\"entity\" style=\"background: #FFEBCD; padding: 0.45em 0.6em; margin: 0 0.25em; line-height: 1; border-radius: 0.35em;\">\n",
              "    Arkamin Tablet\n",
              "    <span style=\"font-size: 0.8em; font-weight: bold; line-height: 1; border-radius: 0.35em; vertical-align: middle; margin-left: 0.5rem\">Medicine_data</span>\n",
              "</mark>\n",
              " Avomine Tablet Asthakind-DX Syrup Sugar Free Allegra 180mg \n",
              "<mark class=\"entity\" style=\"background: #FFEBCD; padding: 0.45em 0.6em; margin: 0 0.25em; line-height: 1; border-radius: 0.35em;\">\n",
              "    Tablet Albendazole\n",
              "    <span style=\"font-size: 0.8em; font-weight: bold; line-height: 1; border-radius: 0.35em; vertical-align: middle; margin-left: 0.5rem\">Medicine_data</span>\n",
              "</mark>\n",
              " 400mg Tablet Ascoril LS Junior Syrup</div></span>"
            ]
          },
          "metadata": {}
        }
      ]
    }
  ]
}